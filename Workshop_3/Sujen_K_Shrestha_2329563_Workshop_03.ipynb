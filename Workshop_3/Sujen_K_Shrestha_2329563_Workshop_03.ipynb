{
  "cells": [
    {
      "cell_type": "markdown",
      "metadata": {
        "id": "IY-_Zy_b71lD"
      },
      "source": [
        "# Implementation of MCP Neuron for AND and OR Function."
      ]
    },
    {
      "cell_type": "code",
      "execution_count": 1,
      "metadata": {
        "colab": {
          "base_uri": "https://localhost:8080/"
        },
        "id": "5Wqj5RmBBCGh",
        "outputId": "3776e0bf-16bc-451b-c1b3-d100bea9e820"
      },
      "outputs": [
        {
          "output_type": "stream",
          "name": "stdout",
          "text": [
            "Mounted at /content/drive\n"
          ]
        }
      ],
      "source": [
        "from google.colab import drive\n",
        "drive.mount('/content/drive')"
      ]
    },
    {
      "cell_type": "code",
      "execution_count": 2,
      "metadata": {
        "id": "Fu-YDOe_8GJi"
      },
      "outputs": [],
      "source": [
        "def MCP_Neurons_AND(X1, X2, T):\n",
        "  \"\"\"\n",
        "  This functions implements basic AND operations with MCP Neuron for two inputs.\n",
        "  Arguments:\n",
        "  Inputs:\n",
        "  X1 (1 nd array): An array of binary values.\n",
        "  X2 (1 nd array): An array of binary values.\n",
        "  Output:\n",
        "  state_neuron(1D-list): An state of neuron 1 0r 0 for the particular inputs.\n",
        "  \"\"\"\n",
        "  assert len(X1) == len(X2)\n",
        "  ### YOUR CODE HERE ###\n",
        "  # Perform an element wise addition of two input arrays stored in a new array(list):\n",
        "  # Create a new array to put all the prediction let's name that a state_neuron.\n",
        "  # Append 1 in sate_neuron if sum (element) of above list is above Threshold else append 0.\n",
        "  state_neuron = []\n",
        "  for i in range(len(X1)):\n",
        "      if X1[i] == 1 and X2[i] == 1:\n",
        "          state_neuron.append(1)\n",
        "      else:\n",
        "          state_neuron.append(0)\n",
        "\n",
        "  return state_neuron"
      ]
    },
    {
      "cell_type": "code",
      "execution_count": 3,
      "metadata": {
        "colab": {
          "base_uri": "https://localhost:8080/"
        },
        "id": "e2-lKfat8ocN",
        "outputId": "7da94d66-3d3e-428c-b25f-7b115778171b"
      },
      "outputs": [
        {
          "output_type": "stream",
          "name": "stdout",
          "text": [
            "Output of AND gate for inputs [0, 0, 1, 1] and [0, 1, 0, 1] with threshold 2: [0, 0, 0, 1]\n"
          ]
        }
      ],
      "source": [
        "# Example usage for MCP_Neurons_AND function\n",
        "X1 = [0, 0, 1, 1]\n",
        "X2 = [0, 1, 0, 1]\n",
        "T = 2  # Threshold value\n",
        "\n",
        "# Call the MCP_Neurons_AND function\n",
        "result = MCP_Neurons_AND(X1, X2, T)\n",
        "\n",
        "# Print the result\n",
        "print(f\"Output of AND gate for inputs {X1} and {X2} with threshold {T}: {result}\")\n"
      ]
    },
    {
      "cell_type": "code",
      "execution_count": 4,
      "metadata": {
        "id": "7xaMXlLT9FHC"
      },
      "outputs": [],
      "source": [
        "def MCP_Neurons_OR(X1, X2, T):\n",
        "    \"\"\"\n",
        "    This function implements basic OR operations with MCP Neuron for two inputs.\n",
        "    Arguments:\n",
        "    Inputs:\n",
        "    X1 (1D array): An array of binary values.\n",
        "    X2 (1D array): An array of binary values.\n",
        "    Output:\n",
        "    state_neuron (1D list): The state of the neuron (1 or 0) for the particular inputs.\n",
        "    \"\"\"\n",
        "    assert len(X1) == len(X2)\n",
        "    ### YOUR CODE HERE ###\n",
        "    # Perform an element wise addition of two input arrays stored in a new array(list):\n",
        "    # Create a new array to put all the prediction let's name that a state_neuron.\n",
        "    # Append 1 in sate_neuron if sum (element) of above list is above Threshold else append 0.\n",
        "    state_neuron = []\n",
        "    for i in range(len(X1)):\n",
        "        if X1[i] == 1 or X2[i] == 1:\n",
        "            state_neuron.append(1)\n",
        "\n",
        "    return state_neuron\n"
      ]
    },
    {
      "cell_type": "code",
      "execution_count": 5,
      "metadata": {
        "colab": {
          "base_uri": "https://localhost:8080/"
        },
        "id": "6H-YOy268_Jo",
        "outputId": "456508a4-591e-4a7b-895a-29977339e77f"
      },
      "outputs": [
        {
          "output_type": "stream",
          "name": "stdout",
          "text": [
            "Output of OR gate for inputs [0, 0, 1, 1] and [0, 1, 0, 1] with threshold 1: [1, 1, 1]\n"
          ]
        }
      ],
      "source": [
        "# Example usage for MCP_Neurons_OR function\n",
        "X1 = [0, 0, 1, 1]\n",
        "X2 = [0, 1, 0, 1]\n",
        "T = 1  # Threshold value for OR gate\n",
        "\n",
        "# Call the MCP_Neurons_OR function\n",
        "result_or = MCP_Neurons_OR(X1, X2, T)\n",
        "\n",
        "# Print the result\n",
        "print(f\"Output of OR gate for inputs {X1} and {X2} with threshold {T}: {result_or}\")\n"
      ]
    },
    {
      "cell_type": "markdown",
      "metadata": {
        "id": "mvKRz7LXDaLL"
      },
      "source": [
        "### 3.2.1 Answer the Following Question:"
      ]
    },
    {
      "cell_type": "markdown",
      "metadata": {
        "id": "yaz2RxTwDhb3"
      },
      "source": [
        "Question - 1: List out all the limitations of MCP - Neurons.\n",
        "\n",
        "Answer:\n",
        "1. Cannot solve XOR: Only works for linearly separable problems.\n",
        "2. Fixed threshold: No learning values are manually set.\n",
        "3. No weighted inputes: Treats all inputs equally.\n",
        "4. No adaptability: Cannot adjust to new data."
      ]
    },
    {
      "cell_type": "markdown",
      "metadata": {
        "id": "ngcn1-a2DkVf"
      },
      "source": [
        "Question - 2: Think if you can develop a logic to solve for XOR function using MCP Neuron.\n",
        "{Can you devise a if else rules.}\n",
        "\n",
        "Answer:\n",
        "XOR cannot be implemented using NAND, OR and AND gates:\n",
        "\n",
        "Logic:\n",
        "1. NAND = NOT(AND(X1,X2))\n",
        "2. OR = X1 OR X2\n",
        "3. XOR = AND(NAND, OR)"
      ]
    },
    {
      "cell_type": "markdown",
      "metadata": {
        "id": "Apa9bfLIFJHe"
      },
      "source": [
        "# Implementation for 0 Vs. 1 Classification."
      ]
    },
    {
      "cell_type": "markdown",
      "metadata": {
        "id": "iom83mGLFP_1"
      },
      "source": [
        "## Step 1: Load the Dataset"
      ]
    },
    {
      "cell_type": "code",
      "execution_count": 6,
      "metadata": {
        "colab": {
          "base_uri": "https://localhost:8080/"
        },
        "id": "7rkW58ct9IYq",
        "outputId": "9936286a-185c-40bf-8644-b5a2b1733a6e"
      },
      "outputs": [
        {
          "output_type": "stream",
          "name": "stdout",
          "text": [
            "Feature matrix shape: (12665, 784)\n",
            "Label vector shape: (12665,)\n"
          ]
        }
      ],
      "source": [
        "import pandas as pd\n",
        "import numpy as np\n",
        "import matplotlib.pyplot as plt\n",
        "\n",
        "\n",
        "# Load the dataset\n",
        "df_0_1 = pd.read_csv(\"/content/drive/MyDrive/Ai&Machine/mnist_0_and_1.csv\")  # Add the correct file path if necessary\n",
        "\n",
        "# Extract features and labels\n",
        "X = df_0_1.drop(columns=[\"label\"]).values  # 784 pixels\n",
        "y = df_0_1[\"label\"].values  # Labels (0 or 1)\n",
        "\n",
        "# Check the shape of the features and labels\n",
        "print(\"Feature matrix shape:\", X.shape)\n",
        "print(\"Label vector shape:\", y.shape)\n"
      ]
    },
    {
      "cell_type": "markdown",
      "metadata": {
        "id": "eoLbTp6KEwQ5"
      },
      "source": [
        "Answer the Following Question:\n",
        "1. Question - 1: What does the shape of X represent?\n",
        "\n",
        "Answer:\n",
        "The shape (12665,784) means that X has 12,665 samples (rows) and 784 features (colimns). Each row represents a data point, and each column represents a feature."
      ]
    },
    {
      "cell_type": "markdown",
      "metadata": {
        "id": "8JCwo0waEx9Y"
      },
      "source": [
        "2. Question - 2: What does the shape of X represent?\n",
        "\n",
        "Answer:\n",
        "The shape (12,665) means that y is a label vector with 12,665 labels. Each entry corresponds to the class label for the respective row in X."
      ]
    },
    {
      "cell_type": "markdown",
      "metadata": {
        "id": "jlq0EY2jHheD"
      },
      "source": [
        "### Viewing the Dataset."
      ]
    },
    {
      "cell_type": "code",
      "execution_count": 7,
      "metadata": {
        "colab": {
          "base_uri": "https://localhost:8080/",
          "height": 451
        },
        "id": "XKY2qjhCHAZ7",
        "outputId": "c8bb2da0-76d7-4274-e7b0-7023fb1e6a26"
      },
      "outputs": [
        {
          "output_type": "display_data",
          "data": {
            "text/plain": [
              "<Figure size 1000x500 with 10 Axes>"
            ],
            "image/png": "[encoded data removed]"
          },
          "metadata": {}
        }
      ],
      "source": [
        "# Separate images for label 0 and label 1\n",
        "images_0 = X[y == 0]  # Get all images with label 0\n",
        "images_1 = X[y == 1]  # Get all images with label 1\n",
        "\n",
        "fig, axes = plt.subplots(2, 5, figsize=(10, 5))\n",
        "\n",
        "# Check if the arrays have the required amount of data\n",
        "if len(images_0) < 5 or len(images_1) < 5:\n",
        "    print(\"Error: Not enough images in images_0 or images_1 to plot 5 images.\")\n",
        "else:\n",
        "    for i in range(5):\n",
        "        # Plot digit 0\n",
        "        axes[0, i].imshow(images_0[i].reshape(28, 28), cmap=\"gray\")\n",
        "        axes[0, i].set_title(\"Label: 0\")\n",
        "        axes[0, i].axis(\"off\")\n",
        "        # Plot digit 1\n",
        "        axes[1, i].imshow(images_1[i].reshape(28, 28), cmap=\"gray\")\n",
        "        axes[1, i].set_title(\"Label: 1\")\n",
        "        axes[1, i].axis(\"off\")\n",
        "    plt.suptitle(\"First 5 Images of 0 and 1 from MNIST Subset\")\n",
        "    plt.show()"
      ]
    },
    {
      "cell_type": "markdown",
      "metadata": {
        "id": "qyM34tbHIqGi"
      },
      "source": [
        "## Step - 2 - Initializing the Weights:"
      ]
    },
    {
      "cell_type": "code",
      "execution_count": 8,
      "metadata": {
        "id": "SMsXaZ38HfBI"
      },
      "outputs": [],
      "source": [
        "# Initialize weights and bias\n",
        "weights = np.zeros(X.shape[1])  # 784 weights (one for each pixel)\n",
        "bias = 0\n",
        "learning_rate = 0.1\n",
        "epochs = 100"
      ]
    },
    {
      "cell_type": "markdown",
      "metadata": {
        "id": "gnFMV51kF2NI"
      },
      "source": [
        "Answer the Following Question:\n",
        "\n",
        "Question - 3: What does the weights array represent in this context?\n",
        "\n",
        "Answer:\n",
        "The weights array represents the importance of each pixel in predicting the output. It helps the model learn which pixels contribute more to classification."
      ]
    },
    {
      "cell_type": "markdown",
      "metadata": {
        "id": "6uKJYvYfF3tM"
      },
      "source": [
        "Question - 4: Why are we initializing the weights to zero? What effect could this\n",
        "have on the training process?\n",
        "\n",
        "Answer:\n",
        "Weights are set to zero for simplicity, but this can cause all neurons to update identically, leading to symmetry and preventing proper learning."
      ]
    },
    {
      "cell_type": "markdown",
      "metadata": {
        "id": "EvraDxaeRVeo"
      },
      "source": [
        "## Step - 3 - Make a Decision function:"
      ]
    },
    {
      "cell_type": "code",
      "execution_count": 9,
      "metadata": {
        "id": "6uVj75txLWQi"
      },
      "outputs": [],
      "source": [
        "import numpy as np\n",
        "\n",
        "def decision_function(X, weights, bias):\n",
        "    \"\"\"\n",
        "    Compute the predicted labels for the input data.\n",
        "\n",
        "    Parameters:\n",
        "    - X: Features (input data) as a numpy array of shape (n_samples, n_features)\n",
        "    - weights: Updated weights after training\n",
        "    - bias: Updated bias after training\n",
        "\n",
        "    Returns:\n",
        "    - y_pred_all: The predicted labels for the input data\n",
        "    \"\"\"\n",
        "    predictions = np.dot(X, weights) + bias\n",
        "    #####Your Code Here############  # Activation function (step function)\n",
        "    y_pred_all = np.where(predictions >= 0, 1, 0)\n",
        "    return y_pred_all"
      ]
    },
    {
      "cell_type": "markdown",
      "metadata": {
        "id": "AVZNGyRdI4I4"
      },
      "source": [
        "## Step - 3 - Implement the Perceptron Learning Algorithm"
      ]
    },
    {
      "cell_type": "code",
      "execution_count": 10,
      "metadata": {
        "id": "Dg1ocrycJWpA"
      },
      "outputs": [],
      "source": [
        "def train_perceptron(X, y, weights, bias, learning_rate=0.1, epochs=100):\n",
        "    \"\"\"\n",
        "    Train the perceptron using the Perceptron Learning Algorithm.\n",
        "\n",
        "    Parameters:\n",
        "    - X: Features (input data) as a numpy array of shape (n_samples, n_features)\n",
        "    - y: Labels (true output) as a numpy array of shape (n_samples,)\n",
        "    - weights: Initial weights as a numpy array of shape (n_features,)\n",
        "    - bias: Initial bias value (scalar)\n",
        "    - learning_rate: Learning rate for weight updates (default is 0.1)\n",
        "    - epochs: Number of iterations to train the model (default is 100)\n",
        "\n",
        "    Returns:\n",
        "    - weights: Updated weights after training\n",
        "    - bias: Updated bias after training\n",
        "    - accuracy: Total correct prediction.\n",
        "    \"\"\"\n",
        "    # Step 3: Perceptron Learning Algorithm\n",
        "    # Your Code here#\n",
        "    for epoch in range(epochs):\n",
        "        for i in range(len(X)):\n",
        "            output = np.dot(X[i], weights) + bias\n",
        "            y_pred = 1 if output >= 0 else 0\n",
        "\n",
        "            # Update weights and bias if prediction is wrong\n",
        "            if y_pred != y[i]:\n",
        "                weights += learning_rate * (y[i] - y_pred) * X[i]\n",
        "                bias += learning_rate * (y[i] - y_pred)\n",
        "\n",
        "    # Calculate final accuracy\n",
        "    predictions = decision_function(X, weights, bias)\n",
        "    accuracy = np.mean(predictions == y)\n",
        "    if epoch % 10 == 0:  # Print every 10 epochs\n",
        "      print(f\"Epoch {epoch}: Accuracy = {accuracy:.2f}\")\n",
        "\n",
        "\n",
        "    return weights, bias, accuracy"
      ]
    },
    {
      "cell_type": "markdown",
      "metadata": {
        "id": "Va6AGI6iMAG9"
      },
      "source": [
        "## Training the Perceptron"
      ]
    },
    {
      "cell_type": "code",
      "execution_count": 11,
      "metadata": {
        "colab": {
          "base_uri": "https://localhost:8080/"
        },
        "id": "cn8XBYuZLswI",
        "outputId": "fa4e8f17-0678-4590-f8c2-ce996f90b61b"
      },
      "outputs": [
        {
          "output_type": "stream",
          "name": "stdout",
          "text": [
            "The Final Accuracy is:  1.0\n"
          ]
        }
      ],
      "source": [
        "# After training the model with the perceptron_learning_algorithm\n",
        "weights, bias, accuracy = train_perceptron(X, y, weights, bias)\n",
        "\n",
        "# Evaluate the model using the new function\n",
        "print(\"The Final Accuracy is: \", accuracy)"
      ]
    },
    {
      "cell_type": "markdown",
      "metadata": {
        "id": "BfHKOsX3J3Ny"
      },
      "source": [
        "Answer the Following Question: (short and simple)\n",
        "Question - 5: What is the purpose of the output = np.dot(X[i], weights) + bias line?\n",
        "\n",
        "Answer:\n",
        "The purpose of the output = np.dot(X[i], weights) is to calculate the weighted sum of inputs and add the bias to comupute the output of a neuron."
      ]
    },
    {
      "cell_type": "markdown",
      "metadata": {
        "id": "SBn2lSlMKGZ2"
      },
      "source": [
        "Question - 6: What happens when the prediction is wrong? How are the weights and bias updated?\n",
        "\n",
        "Answer:\n",
        "When the prediction is wrong, the weights and bias are updated by adding the error scaled by the learning rate. The weights are adjusted based on the error and the input data, and the bias is updated similarly."
      ]
    },
    {
      "cell_type": "markdown",
      "metadata": {
        "id": "tegTvGjFKQlt"
      },
      "source": [
        "Question - 7: Why is the final accuracy important, and what do you expect it to be?\n",
        "\n",
        "Answer:\n",
        "The final accuracy is important because it measures how well the model performs in making correct predictions. You expect it to be as high as possible, ideally close to 100%, depending on the complexity of the data and the model."
      ]
    },
    {
      "cell_type": "markdown",
      "metadata": {
        "id": "-SLq1jbSMKPm"
      },
      "source": [
        "## Step 5: Visualize Misclassified Images"
      ]
    },
    {
      "cell_type": "code",
      "execution_count": 12,
      "metadata": {
        "colab": {
          "base_uri": "https://localhost:8080/"
        },
        "id": "KAMz1RPGMN_A",
        "outputId": "1ba9a6ac-c7fe-4e30-f760-f4df4e975a2d"
      },
      "outputs": [
        {
          "output_type": "stream",
          "name": "stdout",
          "text": [
            "Final Accuracy: 1.0000\n",
            "All images were correctly classified!\n"
          ]
        }
      ],
      "source": [
        "# Get predictions for all data points\n",
        "predictions = np.dot(X, weights) + bias\n",
        "y_pred = np.where(predictions >= 0, 1, 0)\n",
        "\n",
        "# Calculate final accuracy\n",
        "final_accuracy = np.mean(y_pred == y)\n",
        "print(f\"Final Accuracy: {final_accuracy:.4f}\")\n",
        "\n",
        "# Step 5: Visualize Misclassified Images\n",
        "misclassified_idx = np.where(y_pred != y)[0]\n",
        "if len(misclassified_idx) > 0:\n",
        "    fig, axes = plt.subplots(2, 5, figsize=(10, 5))\n",
        "    for ax, idx in zip(axes.flat, misclassified_idx[:10]):  # Show 10 misclassified images\n",
        "        ax.imshow(X[idx].reshape(28, 28), cmap=\"gray\")\n",
        "        ax.set_title(f\"Pred: {y_pred[idx]}, True: {y[idx]}\")\n",
        "        ax.axis(\"off\")\n",
        "    plt.suptitle(\"Misclassified Images\")\n",
        "    plt.show()\n",
        "else:\n",
        "    print(\"All images were correctly classified!\")"
      ]
    },
    {
      "cell_type": "markdown",
      "metadata": {
        "id": "SLpNzizhMHix"
      },
      "source": [
        "Answer the Following Question:\n",
        "\n",
        "Question - 8:What does misclassified idx store, and how is it used in this code?\n",
        "\n",
        "Answer:\n",
        "misclassified_idx stores the indices of the samples that were incorrectly classified by the model. It is used to identify which specific data points (or images) were misclassified, so they can be examined or used for further analysis."
      ]
    },
    {
      "cell_type": "markdown",
      "metadata": {
        "id": "QvXb54hZMQlE"
      },
      "source": [
        "Question - 9: How do you interpret the result if the output is ”All images were\n",
        "correctly classified!”?\n",
        "\n",
        "Answer:\n",
        "\n",
        "If the output is \"All images were correctly classified!\", it means the model has made perfect predictions on all test samples, achieving 100% accuracy."
      ]
    },
    {
      "cell_type": "markdown",
      "metadata": {
        "id": "T9vgNjmGMwp8"
      },
      "source": [
        "# **Task 3: Perceptron Algorithm for 3 vs 5 Classification.**"
      ]
    },
    {
      "cell_type": "markdown",
      "metadata": {
        "id": "azRp-f5jNk5q"
      },
      "source": [
        "## **Load the Dataset**"
      ]
    },
    {
      "cell_type": "code",
      "execution_count": 13,
      "metadata": {
        "colab": {
          "base_uri": "https://localhost:8080/"
        },
        "id": "CeEDo-9gNknE",
        "outputId": "e85d8d83-335e-494b-865b-671b4bc07cc7"
      },
      "outputs": [
        {
          "output_type": "stream",
          "name": "stdout",
          "text": [
            "Feature matrix shape: (2741, 784)\n",
            "Label vector shape: (2741,)\n"
          ]
        }
      ],
      "source": [
        "# Load dataset\n",
        "df_3_5 = pd.read_csv('/content/drive/MyDrive/Ai&Machine/mnist_3_and_5.csv')\n",
        "\n",
        "# Extract features and labels\n",
        "X = df_3_5.drop(columns=[\"label\"]).values  # 784 pixel features\n",
        "y = df_3_5[\"label\"].values  # Labels: 3 (mapped to 0) and 5 (mapped to 1)\n",
        "\n",
        "# Convert labels to binary (e.g., 3 → 0 and 5 → 1)\n",
        "y = np.where(y == 3, 0, 1)\n",
        "\n",
        "# Check the shape of the features and labels\n",
        "print(\"Feature matrix shape:\", X.shape)\n",
        "print(\"Label vector shape:\", y.shape)"
      ]
    },
    {
      "cell_type": "markdown",
      "metadata": {
        "id": "2e8bgsEJNnxm"
      },
      "source": [
        "## **Step - 1 Viewing the Dataset.**"
      ]
    },
    {
      "cell_type": "code",
      "execution_count": 14,
      "metadata": {
        "colab": {
          "base_uri": "https://localhost:8080/",
          "height": 451
        },
        "id": "C2BCZGJ-Nod2",
        "outputId": "afcbe5cc-9411-4c2a-b53e-782b27d70d8c"
      },
      "outputs": [
        {
          "output_type": "display_data",
          "data": {
            "text/plain": [
              "<Figure size 1000x500 with 10 Axes>"
            ],
            "image/png": "[encoded data removed]"
          },
          "metadata": {}
        }
      ],
      "source": [
        "# Separate images for label 3 and label 5\n",
        "images_3 = X[y == 0]  # Get all images with label 3\n",
        "images_5 = X[y == 1]  # Get all images with label 5\n",
        "\n",
        "fig, axes = plt.subplots(2, 5, figsize=(10, 5))\n",
        "\n",
        "# Check if the arrays have the required amount of data\n",
        "if len(images_3) < 5 or len(images_5) < 5:\n",
        "    print(\"Error: Not enough images in images_2 or images_3 to plot 5 images.\")\n",
        "else:\n",
        "    for i in range(5):\n",
        "        # Plot digit 3\n",
        "        axes[0, i].imshow(images_3[i].reshape(28, 28), cmap=\"gray\")\n",
        "        axes[0, i].set_title(\"Label: 3\")\n",
        "        axes[0, i].axis(\"off\")\n",
        "        # Plot digit 5\n",
        "        axes[1, i].imshow(images_5[i].reshape(28, 28), cmap=\"gray\")\n",
        "        axes[1, i].set_title(\"Label: 5\")\n",
        "        axes[1, i].axis(\"off\")\n",
        "    plt.suptitle(\"First 5 Images of 3 and 5 from MNIST Subset\")\n",
        "    plt.show()\n"
      ]
    },
    {
      "cell_type": "markdown",
      "metadata": {
        "id": "AWeM7lPkQQJf"
      },
      "source": [
        "## **Step - 2 - Initializing the Weights:**"
      ]
    },
    {
      "cell_type": "code",
      "execution_count": 15,
      "metadata": {
        "id": "XzvLYustQVB0"
      },
      "outputs": [],
      "source": [
        "# Initialize weights and bias\n",
        "weights = np.zeros(X.shape[1])  # 784 weights (one for each pixel)\n",
        "bias = 0\n",
        "learning_rate = 0.1\n",
        "epochs = 100"
      ]
    },
    {
      "cell_type": "markdown",
      "metadata": {
        "id": "1alpU4y3QfVQ"
      },
      "source": [
        "## **Step - 3 - Make a Decision function:**"
      ]
    },
    {
      "cell_type": "code",
      "execution_count": 16,
      "metadata": {
        "id": "bSezspzyQkfW"
      },
      "outputs": [],
      "source": [
        "import numpy as np\n",
        "\n",
        "def decision_function(X, weights, bias):\n",
        "    predictions = np.dot(X, weights) + bias\n",
        "    return np.where(predictions >= 0, 1, 0)  # Step function"
      ]
    },
    {
      "cell_type": "markdown",
      "metadata": {
        "id": "7p1_pRnyQxTa"
      },
      "source": [
        "## **Step - 3 - Implement the Perceptron Learning Algorithm**"
      ]
    },
    {
      "cell_type": "code",
      "execution_count": 17,
      "metadata": {
        "id": "3sIkG41jQ1Eo"
      },
      "outputs": [],
      "source": [
        "def train_perceptron(X, y, weights, bias, learning_rate=0.1, epochs=100):\n",
        "    for epoch in range(epochs):\n",
        "        for i in range(len(X)):\n",
        "            output = np.dot(X[i], weights) + bias\n",
        "            y_pred = 1 if output >= 0 else 0\n",
        "\n",
        "            # Update weights and bias if prediction is wrong\n",
        "            if y_pred != y[i]:\n",
        "                weights += learning_rate * (y[i] - y_pred) * X[i]\n",
        "                bias += learning_rate * (y[i] - y_pred)\n",
        "\n",
        "    # Calculate final accuracy\n",
        "    predictions = decision_function(X, weights, bias)\n",
        "    accuracy = np.mean(predictions == y)\n",
        "\n",
        "    return weights, bias, accuracy"
      ]
    },
    {
      "cell_type": "markdown",
      "metadata": {
        "id": "Jp687NQYRHUN"
      },
      "source": [
        "## **Training the Perceptron**"
      ]
    },
    {
      "cell_type": "code",
      "execution_count": 18,
      "metadata": {
        "colab": {
          "base_uri": "https://localhost:8080/"
        },
        "id": "J6gK8p2iRG-y",
        "outputId": "68acbc47-b5ba-467c-d909-3897460b53d7"
      },
      "outputs": [
        {
          "output_type": "stream",
          "name": "stdout",
          "text": [
            "The Final Accuracy is:  0.986866107260124\n"
          ]
        }
      ],
      "source": [
        "# After training the model with the perceptron_learning_algorithm\n",
        "weights, bias, accuracy = train_perceptron(X, y, weights, bias)\n",
        "\n",
        "# Evaluate the model using the new function\n",
        "print(\"The Final Accuracy is: \", accuracy)"
      ]
    },
    {
      "cell_type": "markdown",
      "metadata": {
        "id": "ikdXHn1PRZkn"
      },
      "source": [
        "## **Step 5: Visualize Misclassified Images**"
      ]
    },
    {
      "cell_type": "code",
      "execution_count": 19,
      "metadata": {
        "colab": {
          "base_uri": "https://localhost:8080/",
          "height": 468
        },
        "id": "_38R8w1tRdi_",
        "outputId": "6587577e-ad05-4deb-9979-8b5b92368821"
      },
      "outputs": [
        {
          "output_type": "stream",
          "name": "stdout",
          "text": [
            "Final Accuracy: 0.9869\n"
          ]
        },
        {
          "output_type": "display_data",
          "data": {
            "text/plain": [
              "<Figure size 1000x500 with 10 Axes>"
            ],
            "image/png": "[encoded data removed]"
          },
          "metadata": {}
        }
      ],
      "source": [
        "# Get predictions for all data points\n",
        "predictions = np.dot(X, weights) + bias\n",
        "y_pred = np.where(predictions >= 0, 1, 0)\n",
        "\n",
        "# Calculate final accuracy\n",
        "final_accuracy = np.mean(y_pred == y)\n",
        "print(f\"Final Accuracy: {final_accuracy:.4f}\")\n",
        "\n",
        "# Step 5: Visualize Misclassified Images\n",
        "misclassified_idx = np.where(y_pred != y)[0]\n",
        "if len(misclassified_idx) > 0:\n",
        "    fig, axes = plt.subplots(2, 5, figsize=(10, 5))\n",
        "    for ax, idx in zip(axes.flat, misclassified_idx[:10]):  # Show 10 misclassified images\n",
        "        ax.imshow(X[idx].reshape(28, 28), cmap=\"gray\")\n",
        "        # Map binary labels back to 3 and 5 for display\n",
        "        pred_label = 5 if y_pred[idx] == 1 else 3\n",
        "        true_label = 5 if y[idx] == 1 else 3\n",
        "        ax.set_title(f\"Pred: {pred_label}, True: {true_label}\")\n",
        "        ax.axis(\"off\")\n",
        "    plt.suptitle(\"Misclassified Images\")\n",
        "    plt.show()\n",
        "else:\n",
        "    print(\"All images were correctly classified!\")"
      ]
    }
  ],
  "metadata": {
    "colab": {
      "provenance": []
    },
    "kernelspec": {
      "display_name": "Python 3",
      "name": "python3"
    },
    "language_info": {
      "name": "python"
    }
  },
  "nbformat": 4,
  "nbformat_minor": 0
}