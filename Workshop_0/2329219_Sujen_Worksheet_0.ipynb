{
  "nbformat": 4,
  "nbformat_minor": 0,
  "metadata": {
    "colab": {
      "provenance": []
    },
    "kernelspec": {
      "name": "python3",
      "display_name": "Python 3"
    },
    "language_info": {
      "name": "python"
    }
  },
  "cells": [
    {
      "cell_type": "markdown",
      "source": [
        "# Worksheet 1\n",
        "## Exercise on Functions:"
      ],
      "metadata": {
        "id": "psMkYjPE1geq"
      }
    },
    {
      "cell_type": "markdown",
      "source": [
        "**Task - 1:**\n",
        "\n",
        "Create a Python program that converts between different units of measurement.\n",
        "*   The program should:\n",
        "1. Prompt the user to choose the type of conversion (e.g., length, weight, volume).\n",
        "2. Ask the user to input the value to be converted.\n",
        "3. Perform the conversion and display the result.\n",
        "4. Handle potential errors, such as invalid input or unsupported conversion types.\n",
        "*   Requirements:\n",
        "1. Functions: Define at least one function to perform the conversion.\n",
        "2. Error Handling: Use try-except blocks to handle invalid input (e.g., non-numeric values).\n",
        "3. User Input: Prompt the user to select the conversion type and input the value.\n",
        "4. Docstrings: Include a docstring in your function to describe its purpose, parameters, and return value.\n",
        "*   Conversion Options:\n",
        "1. Length:\n",
        "- Convert meters (m) to feet (ft).\n",
        "- Convert feet (ft) to meters (m).\n",
        "2. Weight:\n",
        "- Convert kilograms (kg) to pounds (lbs).\n",
        "- Convert pounds (lbs) to kilograms (kg).\n",
        "3. Volume:\n",
        "- Convert liters (L) to gallons (gal).\n",
        "- Convert gallons (gal) to liters (L).\n"
      ],
      "metadata": {
        "id": "zMLo3xNM2pen"
      }
    },
    {
      "cell_type": "code",
      "source": [
        "def convert_length(value, from_unit, to_unit):\n",
        "  \"\"\"\n",
        "  Purpose: To convert length from meters(m) to feet(ft) and vice versa\n",
        "\n",
        "  Parameters:\n",
        "  value (float): Value to convert\n",
        "  from_unit (str): Unit to convert from ('m' or 'ft')\n",
        "  to_unit (str): Unit to convert to ('m' or 'ft')\n",
        "\n",
        "  Return value:\n",
        "  float: converted value\n",
        "  \"\"\"\n",
        "  units = {'m', 'ft'}\n",
        "  if from_unit not in units or to_unit not in units:\n",
        "    raise ValueError(\"Invalid units for length conversion. Use 'm' or 'ft'.\")\n",
        "\n",
        "  if from_unit == 'm' and to_unit == 'ft':\n",
        "    return value * 3.28084\n",
        "  elif from_unit == 'ft' and to_unit == 'm':\n",
        "    return value / 3.28084\n",
        "  else:\n",
        "    raise ValueError(\"Invalid units for length conversion\")\n",
        "\n",
        "def convert_weight(value, from_unit, to_unit):\n",
        "  \"\"\"\n",
        "  Purpose: To convert weight from kilograms(kg) to pounds(lbs) and vice versa\n",
        "\n",
        "  Parameters:\n",
        "  value (float): Value to convert\n",
        "  from_unit (str): Unit to convert from ('kg' or 'lbs')\n",
        "  to_unit (str): Unit to convert to ('kg' or 'lbs')\n",
        "\n",
        "  Return value:\n",
        "  float: converted value\n",
        "  \"\"\"\n",
        "  units = {'kg', 'lbs'}\n",
        "  if from_unit not in units or to_unit not in units:\n",
        "    raise ValueError(\"Invalid units for weight conversion. Use 'kg' or 'lbs'.\")\n",
        "\n",
        "  if from_unit == 'kg' and to_unit == 'lbs':\n",
        "    return value * 2.20462\n",
        "  elif from_unit == 'lbs' and to_unit == 'kg':\n",
        "    return value / 2.20462\n",
        "  else:\n",
        "    raise ValueError(\"Invalid units for weight conversion\")\n",
        "\n",
        "def convert_volume(value, from_unit, to_unit):\n",
        "  \"\"\"\n",
        "  Purpose: To convert volume from liters(l) to gallons(gal) and vice versa\n",
        "\n",
        "  Parameters:\n",
        "  value (float): Value to convert\n",
        "  from_unit (str): Unit to convert from ('l' or 'gal')\n",
        "  to_unit (str): Unit to convert to ('l' or 'gal')\n",
        "\n",
        "  Return value:\n",
        "  float: converted value\n",
        "  \"\"\"\n",
        "  units = {'l', 'gal'}\n",
        "  if from_unit not in units or to_unit not in units:\n",
        "    raise ValueError(\"Invalid units for volume conversion. Use 'l' or 'gal'.\")\n",
        "\n",
        "  if from_unit == 'l' and to_unit == 'gal':\n",
        "    return value * 0.264172\n",
        "  elif from_unit == 'gal' and to_unit == '':\n",
        "    return value / 0.264172\n",
        "  else:\n",
        "    raise ValueError(\"Invalid units for volume conversion\")\n",
        "\n",
        "def main():\n",
        "  \"\"\"\n",
        "  Main function to run the program to convert between different units of measurement\n",
        "  \"\"\"\n",
        "  while True:\n",
        "    print(\"\\nList of Types of Conversions:\")\n",
        "    print(\"1. Length (m/ft)\")\n",
        "    print(\"2. Weight (kg/lbs)\")\n",
        "    print(\"3. Volume (l/gal)\")\n",
        "\n",
        "    try:\n",
        "      choice = int(input(\"\\nEnter your choice or 4 to exit: \"))\n",
        "\n",
        "      if choice == 4:\n",
        "        print(\"Exiting the program.\")\n",
        "        break\n",
        "\n",
        "      if choice not in [1, 2, 3]:\n",
        "        raise ValueError(\"Invalid choice. Please select a valid conversion type.\")\n",
        "\n",
        "      while True:\n",
        "        try:\n",
        "          value = float(input(\"Enter the value to be converted: \"))\n",
        "          if value <= 0:\n",
        "            print(\"Error: Please enter a positive number.\")\n",
        "            continue\n",
        "          break\n",
        "        except ValueError:\n",
        "          print(\"Error: Please enter a valid number.\")\n",
        "\n",
        "      if choice == 1:\n",
        "        from_unit = input(\"Enter the unit to convert from (m or ft): \").lower()\n",
        "        to_unit = input(\"Enter the unit to convert to (m or ft): \").lower()\n",
        "        result = convert_length(value, from_unit, to_unit)\n",
        "\n",
        "      elif choice == 2:\n",
        "        from_unit = input(\"Enter the unit to convert from (kg or lbs): \").lower()\n",
        "        to_unit = input(\"Enter the unit to convert to (kg or lbs): \").lower()\n",
        "        result = convert_weight(value, from_unit, to_unit)\n",
        "\n",
        "      elif choice == 3:\n",
        "        from_unit = input(\"Enter the unit to convert from (l or gal): \").lower()\n",
        "        to_unit = input(\"Enter the unit to convert to (l or gal): \").lower()\n",
        "        result = convert_volume(value, from_unit, to_unit)\n",
        "\n",
        "      print(f\"\\nResult: {value} {from_unit} is equal to {result:.2f} {to_unit}.\")\n",
        "    except ValueError as e:\n",
        "      print(f\"Error: {e}\")\n",
        "    except Exception as e:\n",
        "      print(f\"Unexpected error: {e}\")\n",
        "\n",
        "main()"
      ],
      "metadata": {
        "colab": {
          "base_uri": "https://localhost:8080/"
        },
        "id": "n4R1YfMR4oJO",
        "outputId": "dd82814e-a999-4f70-c241-1154bf33d1d0"
      },
      "execution_count": 1,
      "outputs": [
        {
          "output_type": "stream",
          "name": "stdout",
          "text": [
            "\n",
            "List of Types of Conversions:\n",
            "1. Length (m/ft)\n",
            "2. Weight (kg/lbs)\n",
            "3. Volume (l/gal)\n",
            "\n",
            "Enter your choice or 4 to exit: 2\n",
            "Enter the value to be converted: 20\n",
            "Enter the unit to convert from (kg or lbs): kg\n",
            "Enter the unit to convert to (kg or lbs): 2\n",
            "Error: Invalid units for weight conversion. Use 'kg' or 'lbs'.\n",
            "\n",
            "List of Types of Conversions:\n",
            "1. Length (m/ft)\n",
            "2. Weight (kg/lbs)\n",
            "3. Volume (l/gal)\n",
            "\n",
            "Enter your choice or 4 to exit: 3\n",
            "Enter the value to be converted: 100\n",
            "Enter the unit to convert from (l or gal): l\n",
            "Enter the unit to convert to (l or gal): gal\n",
            "\n",
            "Result: 100.0 l is equal to 26.42 gal.\n",
            "\n",
            "List of Types of Conversions:\n",
            "1. Length (m/ft)\n",
            "2. Weight (kg/lbs)\n",
            "3. Volume (l/gal)\n",
            "\n",
            "Enter your choice or 4 to exit: 4\n",
            "Exiting the program.\n"
          ]
        }
      ]
    },
    {
      "cell_type": "markdown",
      "source": [
        "**Task - 2:**\n",
        "\n",
        "Create a Python program that performs various mathematical operations on a list of numbers.\n",
        "*   The program should:\n",
        "1. Prompt the user to choose an operation (e.g., find the sum, average, maximum, or minimum of the numbers)\n",
        "2. Ask the user to input a list of numbers (separated by spaces).\n",
        "3. Perform the selected operation and display the result.\n",
        "4. Handle potential errors, such as invalid input or empty lists.\n",
        "*   Requirements:\n",
        "1. Functions: Define at least one function for each operation (sum, average, maximum, minimum).\n",
        "2. Error Handling: Use try-except blocks to handle invalid input (e.g., non-numeric values or empty lists).\n",
        "3. User Input: Prompt the user to select the operation and input the list of numbers.\n",
        "4. Docstrings: Include a docstring in each function to describe its purpose, parameters, and\n",
        "return value."
      ],
      "metadata": {
        "id": "XYpjH_4L3wwc"
      }
    },
    {
      "cell_type": "code",
      "source": [
        "def add(numbers):\n",
        "  \"\"\"\n",
        "  Purpose: To calculate the sum of a list of numbers\n",
        "\n",
        "  Parameters:\n",
        "  numbers: A list of numeric values\n",
        "\n",
        "  Return value:\n",
        "  float: Sum of the numbers in the list\n",
        "  \"\"\"\n",
        "  return sum(numbers)\n",
        "\n",
        "def average(numbers):\n",
        "  \"\"\"\n",
        "  Purpose: To calculate the average(mean) of a list of numbers\n",
        "\n",
        "  Parameters:\n",
        "  numbers: A list of numeric values\n",
        "\n",
        "  Return value:\n",
        "  float: Average of the numbers in the list\n",
        "  \"\"\"\n",
        "  return sum(numbers) / len(numbers)\n",
        "\n",
        "def maximum(numbers):\n",
        "  \"\"\"\n",
        "  Purpose: To find the maximum number in a list\n",
        "\n",
        "  Parameters:\n",
        "  numbers: A list of numeric values\n",
        "\n",
        "  Return value:\n",
        "  float: Maximum number in the list\n",
        "  \"\"\"\n",
        "  return max(numbers)\n",
        "\n",
        "def minimum(numbers):\n",
        "  \"\"\"\n",
        "  Purpose: To find the minimum number in a list\n",
        "\n",
        "  Parameters:\n",
        "  numbers: A list of numeric values\n",
        "\n",
        "  Return value:\n",
        "  float: Minimum number in the list\n",
        "  \"\"\"\n",
        "  return min(numbers)\n",
        "\n",
        "def main():\n",
        "  \"\"\"\n",
        "  Main function that prompts the user to select an operation and input a list of numbers.\n",
        "  Performs the selected operation and displays the result.\n",
        "  Handles errors for invalid inputs and empty lists.\n",
        "  \"\"\"\n",
        "  while True:\n",
        "    print(\"\\nList of Operation:\")\n",
        "    print(\"1. Sum\")\n",
        "    print(\"2. Average\")\n",
        "    print(\"3. Maximum\")\n",
        "    print(\"4. Minimum\")\n",
        "\n",
        "    try:\n",
        "      choice = int(input(\"Enter your choice or 5 to exit: \"))\n",
        "\n",
        "      if choice == 5:\n",
        "        print(\"Exiting the program.\")\n",
        "        break\n",
        "\n",
        "      if choice not in [1, 2, 3, 4]:\n",
        "        print(\"Invalid choice. Please select a valid option.\")\n",
        "        continue\n",
        "      numbers_input = input(\"Enter numbers separated by spaces: \")\n",
        "      numbers_list = [float(num) for num in numbers_input.split()]\n",
        "\n",
        "      if not numbers_list:\n",
        "        print(\"Error: The list of numbers cannot be empty.\")\n",
        "        continue\n",
        "\n",
        "      if choice == 1:\n",
        "        result = add(numbers_list)\n",
        "        print(f\"\\nSum: {result}\")\n",
        "      elif choice == 2:\n",
        "        result = average(numbers_list)\n",
        "        print(f\"\\nAverage: {result}\")\n",
        "      elif choice == 3:\n",
        "        result = maximum(numbers_list)\n",
        "        print(f\"\\nMaximum: {result}\")\n",
        "      elif choice == 4:\n",
        "        result = minimum(numbers_list)\n",
        "        print(f\"\\nMinimum: {result}\")\n",
        "\n",
        "    except ValueError:\n",
        "      print(\"Error: Please enter valid numeric values.\")\n",
        "    except Exception as e:\n",
        "      print(f\"Unexpected error: {e}\")\n",
        "\n",
        "main()"
      ],
      "metadata": {
        "id": "ycV-_l7d4dos",
        "colab": {
          "base_uri": "https://localhost:8080/"
        },
        "outputId": "9de634a0-a3fb-4b2a-b92b-a29d813138d4"
      },
      "execution_count": 2,
      "outputs": [
        {
          "output_type": "stream",
          "name": "stdout",
          "text": [
            "\n",
            "List of Operation:\n",
            "1. Sum\n",
            "2. Average\n",
            "3. Maximum\n",
            "4. Minimum\n",
            "Enter your choice or 5 to exit: 1\n",
            "Enter numbers separated by spaces: 3\n",
            "\n",
            "Sum: 3.0\n",
            "\n",
            "List of Operation:\n",
            "1. Sum\n",
            "2. Average\n",
            "3. Maximum\n",
            "4. Minimum\n",
            "Enter your choice or 5 to exit: 2\n",
            "Enter numbers separated by spaces: 6\n",
            "\n",
            "Average: 6.0\n",
            "\n",
            "List of Operation:\n",
            "1. Sum\n",
            "2. Average\n",
            "3. Maximum\n",
            "4. Minimum\n",
            "Enter your choice or 5 to exit: 2\n",
            "Enter numbers separated by spaces: 2 2'\n",
            "Error: Please enter valid numeric values.\n",
            "\n",
            "List of Operation:\n",
            "1. Sum\n",
            "2. Average\n",
            "3. Maximum\n",
            "4. Minimum\n",
            "Enter your choice or 5 to exit: 1\n",
            "Enter numbers separated by spaces: 2 2\n",
            "\n",
            "Sum: 4.0\n",
            "\n",
            "List of Operation:\n",
            "1. Sum\n",
            "2. Average\n",
            "3. Maximum\n",
            "4. Minimum\n",
            "Enter your choice or 5 to exit: 5\n",
            "Exiting the program.\n"
          ]
        }
      ]
    },
    {
      "cell_type": "markdown",
      "source": [
        "## Exercise on List Manipulation:"
      ],
      "metadata": {
        "id": "EwIsbR_O4pVp"
      }
    },
    {
      "cell_type": "markdown",
      "source": [
        "1. Extract Every Other Element:\n",
        "\n",
        "  Write a Python function that extracts every other element from a list, starting from the first element.\n",
        "\n",
        "  Requirements:\n",
        "- Define a function extract every other(lst) that takes a list lst as input and returns a\n",
        "new list containing every other element from the original list.\n",
        "- Example: For the input [1, 2, 3, 4, 5, 6], the output should be [1, 3, 5].\n"
      ],
      "metadata": {
        "id": "iN2aJHMZ4wpc"
      }
    },
    {
      "cell_type": "code",
      "source": [
        "def extract_every_other(lst):\n",
        "  return lst[::2]\n",
        "\n",
        "input_list = [1, 2, 3, 4, 5, 6]\n",
        "new_list = extract_every_other(input_list)\n",
        "print(f\"Every other element of the list:\\n{new_list}\")"
      ],
      "metadata": {
        "id": "BEgbjHFu4pr8",
        "colab": {
          "base_uri": "https://localhost:8080/"
        },
        "outputId": "4c170bad-2ffb-4aac-9234-95dbdfde7e6c"
      },
      "execution_count": 3,
      "outputs": [
        {
          "output_type": "stream",
          "name": "stdout",
          "text": [
            "Every other element of the list:\n",
            "[1, 3, 5]\n"
          ]
        }
      ]
    },
    {
      "cell_type": "markdown",
      "source": [
        "2. Slice a Sublist:\n",
        "\n",
        "  Write a Python function that returns a sublist from a given list, starting from a specified index and ending at another specified index.\n",
        "\n",
        "  Requirements:\n",
        "- Define a function get sublist(lst, start, end) that takes a list lst, a starting index start, and an ending index end as input and returns the sublist from start to end (inclusive).\n",
        "- Example: For the input [1, 2, 3, 4, 5, 6] with start=2 and end=4, the output should be [3, 4, 5]."
      ],
      "metadata": {
        "id": "6aCXSKZH4-9i"
      }
    },
    {
      "cell_type": "code",
      "source": [
        "def get_sublist(lst, start, end):\n",
        "  return lst[start:end+1]\n",
        "\n",
        "input_list = [1, 2, 3, 4, 5, 6]\n",
        "sublist = get_sublist(input_list, 2, 4)\n",
        "print(f\"Sublist starting from index 2 to index 4:\\n{sublist}\")"
      ],
      "metadata": {
        "id": "A_kBV1374_RR",
        "colab": {
          "base_uri": "https://localhost:8080/"
        },
        "outputId": "5c3ccb07-368e-4ac1-d7b9-daca8dd86d2f"
      },
      "execution_count": 4,
      "outputs": [
        {
          "output_type": "stream",
          "name": "stdout",
          "text": [
            "Sublist starting from index 2 to index 4:\n",
            "[3, 4, 5]\n"
          ]
        }
      ]
    },
    {
      "cell_type": "markdown",
      "source": [
        "3. Reverse a List Using Slicing:\n",
        "\n",
        "  Write a Python function that reverses a list using slicing.\n",
        "\n",
        "  Requirements:\n",
        "- Define a function reverse list(lst) that takes a list lst and returns a reversed list using slicing.\n",
        "- Example: For the input [1, 2, 3, 4, 5], the output should be [5, 4, 3, 2, 1]."
      ],
      "metadata": {
        "id": "3x4SO3405MUF"
      }
    },
    {
      "cell_type": "code",
      "source": [
        "def reverse_list(lst):\n",
        "  return lst[::-1]\n",
        "\n",
        "input_list = [1, 2, 3, 4, 5]\n",
        "reversed = reverse_list(input_list)\n",
        "print(f\"Reversed List:\\n{reversed}\")"
      ],
      "metadata": {
        "id": "fFnrjSGB5MEA",
        "colab": {
          "base_uri": "https://localhost:8080/"
        },
        "outputId": "6239de20-1f88-4d7b-e205-353384947ecc"
      },
      "execution_count": 5,
      "outputs": [
        {
          "output_type": "stream",
          "name": "stdout",
          "text": [
            "Reversed List:\n",
            "[5, 4, 3, 2, 1]\n"
          ]
        }
      ]
    },
    {
      "cell_type": "markdown",
      "source": [
        "4. Remove the First and Last Elements:\n",
        "\n",
        "  Write a Python function that removes the first and last elements of a list and returns the resulting sublist.\n",
        "\n",
        "  Requirements:\n",
        "- Define a function remove first last(lst) that takes a list lst and returns a sublist without\n",
        "the first and last elements using slicing.\n",
        "- Example: For the input [1, 2, 3, 4, 5], the output should be [2, 3, 4]."
      ],
      "metadata": {
        "id": "PRyHCbMa5Tsi"
      }
    },
    {
      "cell_type": "code",
      "source": [
        "def remove_first_last(lst):\n",
        "  return lst[1:-1]\n",
        "\n",
        "input_list = [1, 2, 3, 4, 5]\n",
        "sublist = remove_first_last(input_list)\n",
        "print(f\"Modified List:\\n{sublist}\")"
      ],
      "metadata": {
        "id": "r7GhhV_D5S2J",
        "colab": {
          "base_uri": "https://localhost:8080/"
        },
        "outputId": "ce1b60ee-2247-426d-ff68-6ccb67ae6cf3"
      },
      "execution_count": 6,
      "outputs": [
        {
          "output_type": "stream",
          "name": "stdout",
          "text": [
            "Modified List:\n",
            "[2, 3, 4]\n"
          ]
        }
      ]
    },
    {
      "cell_type": "markdown",
      "source": [
        "5. Get the First n Elements:\n",
        "\n",
        "  Write a Python function that extracts the first n elements from a list.\n",
        "\n",
        "  Requirements:\n",
        "- Define a function get first n(lst, n) that takes a list lst and an integer n as input and returns the first n elements of the list using slicing.\n",
        "- Example: For the input [1, 2, 3, 4, 5] with n=3, the output should be [1, 2, 3]."
      ],
      "metadata": {
        "id": "h5ECezqd5Zw9"
      }
    },
    {
      "cell_type": "code",
      "source": [
        "def get_first_n(lst, n):\n",
        "  return lst[:n]\n",
        "\n",
        "input_list = [1, 2, 3, 4, 5]\n",
        "n = 3\n",
        "sublist = get_first_n(input_list, n)\n",
        "print(f\"First {n} elements:\\n{sublist}\")"
      ],
      "metadata": {
        "id": "hRa_u43q5ZZ6",
        "colab": {
          "base_uri": "https://localhost:8080/"
        },
        "outputId": "ee98f84a-92ee-4d7f-8afd-ddff1ea37a6d"
      },
      "execution_count": 7,
      "outputs": [
        {
          "output_type": "stream",
          "name": "stdout",
          "text": [
            "First 3 elements:\n",
            "[1, 2, 3]\n"
          ]
        }
      ]
    },
    {
      "cell_type": "markdown",
      "source": [
        "6. Extract Elements from the End:\n",
        "\n",
        "  Write a Python function that extracts the last n elements of a list using slicing.\n",
        "\n",
        "  Requirements:\n",
        "- Define a function get last n(lst, n) that takes a list lst and an integer n as input and returns the last n elements of the list.\n",
        "- Example: For the input [1, 2, 3, 4, 5] with n=2, the output should be [4, 5]."
      ],
      "metadata": {
        "id": "51rALL_35jxs"
      }
    },
    {
      "cell_type": "code",
      "source": [
        "def get_last_n(lst, n):\n",
        "  return lst[-n:]\n",
        "\n",
        "input_list = [1, 2, 3, 4, 5]\n",
        "n = 2\n",
        "sublist = get_last_n(input_list, n)\n",
        "print(f\"Last {n} elements:\\n{sublist}\")"
      ],
      "metadata": {
        "id": "xgW7PRZU5jhx",
        "colab": {
          "base_uri": "https://localhost:8080/"
        },
        "outputId": "b6a004b1-cbbb-4e78-a334-2fdb6cd3b06f"
      },
      "execution_count": 8,
      "outputs": [
        {
          "output_type": "stream",
          "name": "stdout",
          "text": [
            "Last 2 elements:\n",
            "[4, 5]\n"
          ]
        }
      ]
    },
    {
      "cell_type": "markdown",
      "source": [
        "7. Extract Elements in Reverse Order:\n",
        "\n",
        "  Write a Python function that extracts a list of elements in reverse order starting from the second-to-last element and skipping one element in between.\n",
        "\n",
        "  Requirements:\n",
        "- Define a function reverse skip(lst) that takes a list lst and returns a new list containing every second element starting from the second-to-last, moving backward.\n",
        "- Example: For the input [1, 2, 3, 4, 5, 6], the output should be [5, 3, 1]."
      ],
      "metadata": {
        "id": "34__TtSg5oa-"
      }
    },
    {
      "cell_type": "code",
      "source": [
        "def reverse_skip(lst):\n",
        "  return lst[-2::-2]\n",
        "\n",
        "input_list = [1, 2, 3, 4, 5, 6]\n",
        "sublist = reverse_skip(input_list)\n",
        "print(f\"Every other element in reverse order:\\n{sublist}\")"
      ],
      "metadata": {
        "id": "brElPgkK5oIZ",
        "colab": {
          "base_uri": "https://localhost:8080/"
        },
        "outputId": "7448aecd-db48-429a-a00b-6c51069e1361"
      },
      "execution_count": 9,
      "outputs": [
        {
          "output_type": "stream",
          "name": "stdout",
          "text": [
            "Every other element in reverse order:\n",
            "[5, 3, 1]\n"
          ]
        }
      ]
    },
    {
      "cell_type": "markdown",
      "source": [
        "## Exercise on Nested List:"
      ],
      "metadata": {
        "id": "YMdwVVbG5621"
      }
    },
    {
      "cell_type": "markdown",
      "source": [
        "1. Flatten a Nested List:\n",
        "\n",
        "  Write a Python function that takes a nested list and flattens it into a single list, where all the elements are in a single dimension.\n",
        "\n",
        "  Requirements:\n",
        "- Define a function flatten(lst) that takes a nested list lst and returns a flattened version of the list.\n",
        "- Example: For the input [[1, 2], [3, 4], [5]], the output should be [1, 2, 3, 4, 5]."
      ],
      "metadata": {
        "id": "wryvurtq6AhN"
      }
    },
    {
      "cell_type": "code",
      "source": [
        "def flatten(lst):\n",
        "  flattened_list = []\n",
        "  for sublist in lst:\n",
        "    for item in sublist:\n",
        "      flattened_list.append(item)\n",
        "  return flattened_list\n",
        "\n",
        "input_list = [[1, 2], [3, 4], [5]]\n",
        "single_list = flatten(input_list)\n",
        "print(f\"Flattened List:\\n{single_list}\")"
      ],
      "metadata": {
        "id": "poVwp1pA56eR",
        "colab": {
          "base_uri": "https://localhost:8080/"
        },
        "outputId": "e19373c1-4465-409c-a980-e879b746cd4a"
      },
      "execution_count": 10,
      "outputs": [
        {
          "output_type": "stream",
          "name": "stdout",
          "text": [
            "Flattened List:\n",
            "[1, 2, 3, 4, 5]\n"
          ]
        }
      ]
    },
    {
      "cell_type": "markdown",
      "source": [
        "2. Accessing Nested List Elements:\n",
        "\n",
        "  Write a Python function that extracts a specific element from a nested list given its indices.\n",
        "\n",
        "  Requirements:\n",
        "- Define a function access nested element(lst, indices) that takes a nested list lst and a list of indices indices, and returns the element at that position.\n",
        "- Example: For the input lst = [[1, 2, 3], [4, 5, 6], [7, 8, 9]] with indices = [1, 2], the output should be 6."
      ],
      "metadata": {
        "id": "4WqNxsfY7H24"
      }
    },
    {
      "cell_type": "code",
      "source": [
        "def access_nested_element(lst, indices):\n",
        "  element = lst\n",
        "  for index in indices:\n",
        "    element = element[index]\n",
        "  return element\n",
        "\n",
        "input_list = [[1, 2, 3], [4, 5, 6], [7, 8, 9]]\n",
        "indices = [1, 2]\n",
        "element = access_nested_element(input_list, indices)\n",
        "print(f\"Element at index[1,2]: {element}\")"
      ],
      "metadata": {
        "id": "snYxVXrh7He-",
        "colab": {
          "base_uri": "https://localhost:8080/"
        },
        "outputId": "425c7351-59e7-477d-e501-58d9a2806704"
      },
      "execution_count": 11,
      "outputs": [
        {
          "output_type": "stream",
          "name": "stdout",
          "text": [
            "Element at index[1,2]: 6\n"
          ]
        }
      ]
    },
    {
      "cell_type": "markdown",
      "source": [
        "3. Sum of All Elements in a Nested List:\n",
        "\n",
        "  Write a Python function that calculates the sum of all the numbers in a nested list (regardless of depth).\n",
        "\n",
        "  Requirements:\n",
        "- Define a function sum nested(lst) that takes a nested list lst and returns the sum of all the elements.\n",
        "- Example: For the input [[1, 2], [3, [4, 5]], 6], the output should be 21."
      ],
      "metadata": {
        "id": "QweHLnmg7K4K"
      }
    },
    {
      "cell_type": "code",
      "source": [
        "def sum_nested(lst):\n",
        "  total = 0\n",
        "  for item in lst:\n",
        "    if type(item) == list:\n",
        "      total += sum_nested(item)\n",
        "    else:\n",
        "      total += item\n",
        "  return total\n",
        "\n",
        "input_list = [[1, 2], [3, [4, 5]], 6]\n",
        "result = sum_nested(input_list)\n",
        "print(f\"Sum of all elements: {result}\")"
      ],
      "metadata": {
        "id": "OTz5l3iz7Knd",
        "colab": {
          "base_uri": "https://localhost:8080/"
        },
        "outputId": "88053df5-45e8-426f-b4cc-aef2f0de6eb6"
      },
      "execution_count": 12,
      "outputs": [
        {
          "output_type": "stream",
          "name": "stdout",
          "text": [
            "Sum of all elements: 21\n"
          ]
        }
      ]
    },
    {
      "cell_type": "markdown",
      "source": [
        "4. Remove Specific Element from a Nested List:\n",
        "  \n",
        "  Write a Python function that removes all occurrences of a specific element from a nested list.\n",
        "\n",
        "  Requirements:\n",
        "- Define a function remove element(lst, elem) that removes elem from lst and returns the modified list.\n",
        "- Example: For the input lst = [[1, 2], [3, 2], [4, 5]] and elem = 2, the output should be [[1], [3], [4, 5]]."
      ],
      "metadata": {
        "id": "GUeBb_NC7NuF"
      }
    },
    {
      "cell_type": "code",
      "source": [
        "def remove_element(lst, elem):\n",
        "  result = []\n",
        "  for item in lst:\n",
        "    if type(item) == list:\n",
        "      new_sublist = remove_element(item, elem)\n",
        "      if new_sublist:\n",
        "        result.append(new_sublist)\n",
        "    elif item != elem:\n",
        "      result.append(item)\n",
        "  return result\n",
        "\n",
        "input_list = [[1, 2], [3, 2], [4, 5]]\n",
        "element = 2\n",
        "result = remove_element(input_list, element)\n",
        "print(f\"Modified list:\\n{result}\")"
      ],
      "metadata": {
        "id": "71XGCpkj7Nfs",
        "colab": {
          "base_uri": "https://localhost:8080/"
        },
        "outputId": "cf9e60b0-e339-4513-d828-95638819bdd9"
      },
      "execution_count": 13,
      "outputs": [
        {
          "output_type": "stream",
          "name": "stdout",
          "text": [
            "Modified list:\n",
            "[[1], [3], [4, 5]]\n"
          ]
        }
      ]
    },
    {
      "cell_type": "markdown",
      "source": [
        "5. Find the Maximum Element in a Nested List:\n",
        "\n",
        "  Write a Python function that finds the maximum element in a nested list (regardless of depth).\n",
        "\n",
        "  Requirements:\n",
        "- Define a function find max(lst) that takes a nested list lst and returns the maximum element.\n",
        "- Example: For the input [[1, 2], [3, [4, 5]], 6], the output should be 6."
      ],
      "metadata": {
        "id": "ITyPYyDH7QUF"
      }
    },
    {
      "cell_type": "code",
      "source": [
        "def find_max(lst):\n",
        "  max_val = float('-inf')\n",
        "  for item in lst:\n",
        "    if type(item) == list:\n",
        "      max_val = max(max_val, find_max(item))\n",
        "    else:\n",
        "      max_val = max(max_val, item)\n",
        "  return max_val\n",
        "\n",
        "input_list = [[1, 2], [3, [4, 5]], 6]\n",
        "max_value = find_max(input_list)\n",
        "print(f\"Maximum element: {max_value}\")"
      ],
      "metadata": {
        "colab": {
          "base_uri": "https://localhost:8080/"
        },
        "id": "AO6eJtsrZWX5",
        "outputId": "567b10cd-ecc3-4798-ad26-2813afe4de2d"
      },
      "execution_count": 14,
      "outputs": [
        {
          "output_type": "stream",
          "name": "stdout",
          "text": [
            "Maximum element: 6\n"
          ]
        }
      ]
    },
    {
      "cell_type": "markdown",
      "source": [
        "6. Count Occurrences of an Element in a Nested List:\n",
        "\n",
        "  Write a Python function that counts how many times a specific element appears in a nested list.\n",
        "\n",
        "  Requirements:\n",
        "- Define a function count occurrences(lst, elem) that counts the occurrences of elem in the nested list lst.\n",
        "- Example: For the input lst = [[1, 2], [2, 3], [2, 4]] and elem = 2, the output should be 3."
      ],
      "metadata": {
        "id": "ZhL2AL9R7Syh"
      }
    },
    {
      "cell_type": "code",
      "source": [
        "def count_occurrences(lst, elem):\n",
        "  count = 0\n",
        "  for item in lst:\n",
        "    if type(item) == list:\n",
        "      count += count_occurrences(item, elem)\n",
        "    elif item == elem:\n",
        "      count += 1\n",
        "  return count\n",
        "\n",
        "input_list = [[1, 2], [2, 3], [2, 4]]\n",
        "element = 2\n",
        "result = count_occurrences(input_list, element)\n",
        "print(f\"Element {element} occurs {result} times\")"
      ],
      "metadata": {
        "id": "CMRrl6mX7Sbt",
        "colab": {
          "base_uri": "https://localhost:8080/"
        },
        "outputId": "e37d0953-1be8-491a-de0b-0e2a1e889707"
      },
      "execution_count": 15,
      "outputs": [
        {
          "output_type": "stream",
          "name": "stdout",
          "text": [
            "Element 2 occurs 3 times\n"
          ]
        }
      ]
    },
    {
      "cell_type": "markdown",
      "source": [
        "7. Flatten a List of Lists of Lists:\n",
        "\n",
        "  Write a Python function that flattens a list of lists of lists into a single list, regardless of the depth.\n",
        "\n",
        "  Requirements:\n",
        "- Define a function deep flatten(lst) that takes a deeply nested list lst and returns a single flattened list.\n",
        "- Example: For the input [[[1, 2], [3, 4]], [[5, 6], [7, 8]]], the output should be [1, 2, 3, 4, 5, 6, 7, 8]."
      ],
      "metadata": {
        "id": "zfxYIYSE7V2H"
      }
    },
    {
      "cell_type": "code",
      "source": [
        "def deep_flatten(lst):\n",
        "  flattened_list = []\n",
        "  for item in lst:\n",
        "    if type(item) == list:\n",
        "      flattened_list.extend(deep_flatten(item))\n",
        "    else:\n",
        "      flattened_list.append(item)\n",
        "  return flattened_list\n",
        "\n",
        "input_list = [[[1, 2], [3, 4]], [[5, 6], [7, 8]]]\n",
        "flattened_list = deep_flatten(input_list)\n",
        "print(f\"Flattened List:\\n{flattened_list}\")"
      ],
      "metadata": {
        "id": "8RiM8NZL7Vn1",
        "colab": {
          "base_uri": "https://localhost:8080/"
        },
        "outputId": "3fb889c2-74d6-4a98-acce-8c208e030836"
      },
      "execution_count": 16,
      "outputs": [
        {
          "output_type": "stream",
          "name": "stdout",
          "text": [
            "Flattened List:\n",
            "[1, 2, 3, 4, 5, 6, 7, 8]\n"
          ]
        }
      ]
    },
    {
      "cell_type": "markdown",
      "source": [
        "8. Nested List Average:\n",
        "\n",
        "  Write a Python function that calculates the average of all elements in a nested list.\n",
        "\n",
        "  Requirements:\n",
        "- Define a function average nested(lst) that takes a nested list lst and returns the average of all the elements.\n",
        "- Example: For the input [[1, 2], [3, 4], [5, 6]], the output should be 3.5."
      ],
      "metadata": {
        "id": "iPbu1GZE7YXm"
      }
    },
    {
      "cell_type": "code",
      "source": [
        "def average_nested(lst):\n",
        "  def deep_flatten(lst):\n",
        "    flattened_list = []\n",
        "    for item in lst:\n",
        "      if type(item) == list:\n",
        "        flattened_list.extend(deep_flatten(item))\n",
        "      else:\n",
        "        flattened_list.append(item)\n",
        "    return flattened_list\n",
        "\n",
        "  flattened_list = deep_flatten(lst)\n",
        "  if flattened_list:\n",
        "    return sum(flattened_list) / len(flattened_list)\n",
        "  else:\n",
        "    return 0\n",
        "\n",
        "input_list = [[1, 2], [3, 4], [5, 6]]\n",
        "average = average_nested(input_list)\n",
        "print(f\"Average of elements in the list: {average}\")"
      ],
      "metadata": {
        "id": "HCcBwNbk7YJj",
        "colab": {
          "base_uri": "https://localhost:8080/"
        },
        "outputId": "3ee5374a-3e33-494c-b281-64b58d056d04"
      },
      "execution_count": 17,
      "outputs": [
        {
          "output_type": "stream",
          "name": "stdout",
          "text": [
            "Average of elements in the list: 3.5\n"
          ]
        }
      ]
    },
    {
      "cell_type": "markdown",
      "source": [
        "## Basic Vector and Matrix Operation with Numpy\n",
        "### Problem - 1: Array Creation:\n"
      ],
      "metadata": {
        "id": "I-vfjpNW2I7P"
      }
    },
    {
      "cell_type": "code",
      "source": [
        "import numpy as np"
      ],
      "metadata": {
        "id": "2gjdYtQs2HKt"
      },
      "execution_count": 18,
      "outputs": []
    },
    {
      "cell_type": "markdown",
      "source": [
        "1. Initialize an empty array with size 2X2."
      ],
      "metadata": {
        "id": "1t4PF3cb4lLJ"
      }
    },
    {
      "cell_type": "code",
      "execution_count": 19,
      "metadata": {
        "id": "KP6VNwr-KK_L",
        "colab": {
          "base_uri": "https://localhost:8080/"
        },
        "outputId": "3dc26597-26e2-4a6e-d350-9b8ce18d9044"
      },
      "outputs": [
        {
          "output_type": "stream",
          "name": "stdout",
          "text": [
            "Empty array:\n",
            "[[1.45033939e-316 0.00000000e+000]\n",
            " [6.64802899e-310 6.64802900e-310]]\n"
          ]
        }
      ],
      "source": [
        "empty_arr = np.empty((2,2))\n",
        "print(f\"Empty array:\\n{empty_arr}\")"
      ]
    },
    {
      "cell_type": "markdown",
      "source": [
        "2. Initialize an all one array with size 4X2."
      ],
      "metadata": {
        "id": "C2ZcbcZn1yIG"
      }
    },
    {
      "cell_type": "code",
      "source": [
        "ones_arr = np.ones((4,2))\n",
        "print(f\"All one array:\\n{ones_arr}\")"
      ],
      "metadata": {
        "id": "jxw2mYb512Ei",
        "colab": {
          "base_uri": "https://localhost:8080/"
        },
        "outputId": "5cc5b746-7f4e-425f-c7c0-196f6d6609ce"
      },
      "execution_count": 20,
      "outputs": [
        {
          "output_type": "stream",
          "name": "stdout",
          "text": [
            "All one array:\n",
            "[[1. 1.]\n",
            " [1. 1.]\n",
            " [1. 1.]\n",
            " [1. 1.]]\n"
          ]
        }
      ]
    },
    {
      "cell_type": "markdown",
      "source": [
        "3. Return a new array of given shape and type, filled with fill value.{Hint: np.full}"
      ],
      "metadata": {
        "id": "HM-sXPcq12YU"
      }
    },
    {
      "cell_type": "code",
      "source": [
        "arr = np.full((3,2), 5, dtype=int)\n",
        "print(arr)"
      ],
      "metadata": {
        "id": "hn5crYZ1137L",
        "colab": {
          "base_uri": "https://localhost:8080/"
        },
        "outputId": "6b10c239-a58b-425d-8e09-14d878d05a26"
      },
      "execution_count": 21,
      "outputs": [
        {
          "output_type": "stream",
          "name": "stdout",
          "text": [
            "[[5 5]\n",
            " [5 5]\n",
            " [5 5]]\n"
          ]
        }
      ]
    },
    {
      "cell_type": "markdown",
      "source": [
        "4. Return a new array of zeros with same shape and type as a given array.{Hint: np.zeros like}"
      ],
      "metadata": {
        "id": "g_x0qTyC14ZD"
      }
    },
    {
      "cell_type": "code",
      "source": [
        "print(np.zeros_like(arr))"
      ],
      "metadata": {
        "id": "MQc0BZ9R16PS",
        "colab": {
          "base_uri": "https://localhost:8080/"
        },
        "outputId": "bf46c622-91ef-43f3-bae6-e06a60f381ce"
      },
      "execution_count": 22,
      "outputs": [
        {
          "output_type": "stream",
          "name": "stdout",
          "text": [
            "[[0 0]\n",
            " [0 0]\n",
            " [0 0]]\n"
          ]
        }
      ]
    },
    {
      "cell_type": "markdown",
      "source": [
        "5. Return a new array of ones with same shape and type as a given array.{Hint: np.ones like}"
      ],
      "metadata": {
        "id": "rPKWGYw516iS"
      }
    },
    {
      "cell_type": "code",
      "source": [
        "print(np.ones_like(arr))"
      ],
      "metadata": {
        "id": "bPJaCBod17-Z",
        "colab": {
          "base_uri": "https://localhost:8080/"
        },
        "outputId": "fe30a8c6-5e77-460d-f776-e068fe5c764b"
      },
      "execution_count": 23,
      "outputs": [
        {
          "output_type": "stream",
          "name": "stdout",
          "text": [
            "[[1 1]\n",
            " [1 1]\n",
            " [1 1]]\n"
          ]
        }
      ]
    },
    {
      "cell_type": "markdown",
      "source": [
        "6. For an existing list new_list = [1,2,3,4] convert to an numpy array.{Hint: np.array()}"
      ],
      "metadata": {
        "id": "GflBat9918S8"
      }
    },
    {
      "cell_type": "code",
      "source": [
        "new_list = [1,2,3,4]\n",
        "new_arr = np.array(new_list)\n",
        "print(f\"Array: {new_arr}\")\n",
        "print(f\"Type: {type(new_arr)}\")"
      ],
      "metadata": {
        "id": "AS1HyOiZ19pK",
        "colab": {
          "base_uri": "https://localhost:8080/"
        },
        "outputId": "c1e7a5a5-9b3f-4d4f-b614-24d11f14b528"
      },
      "execution_count": 24,
      "outputs": [
        {
          "output_type": "stream",
          "name": "stdout",
          "text": [
            "Array: [1 2 3 4]\n",
            "Type: <class 'numpy.ndarray'>\n"
          ]
        }
      ]
    },
    {
      "cell_type": "markdown",
      "source": [
        "### Problem - 2: Array Manipulation: Numerical Ranges and Array indexing:"
      ],
      "metadata": {
        "id": "Ws2MEs2E7tXp"
      }
    },
    {
      "cell_type": "markdown",
      "source": [
        "1. Create an array with values ranging from 10 to 49. {Hint:np.arrange()}."
      ],
      "metadata": {
        "id": "gKF9uMKi70Er"
      }
    },
    {
      "cell_type": "code",
      "source": [
        "print(f\"Array with values from 10 to 49:\\n{np.arange(10, 49)}\")"
      ],
      "metadata": {
        "id": "xmnMdU0Q7swg",
        "colab": {
          "base_uri": "https://localhost:8080/"
        },
        "outputId": "2acba6b5-dfb1-4568-f7d7-38fad68efec4"
      },
      "execution_count": 25,
      "outputs": [
        {
          "output_type": "stream",
          "name": "stdout",
          "text": [
            "Array with values from 10 to 49:\n",
            "[10 11 12 13 14 15 16 17 18 19 20 21 22 23 24 25 26 27 28 29 30 31 32 33\n",
            " 34 35 36 37 38 39 40 41 42 43 44 45 46 47 48]\n"
          ]
        }
      ]
    },
    {
      "cell_type": "markdown",
      "source": [
        "2. Create a 3X3 matrix with values ranging from 0 to 8. {Hint:look for np.reshape()}"
      ],
      "metadata": {
        "id": "47AQfVae71-P"
      }
    },
    {
      "cell_type": "code",
      "source": [
        "array = np.arange(9)\n",
        "matrix = np.reshape(array, (3,3))\n",
        "print(f\"3X3 matrix with values from 0 to 8:\\n{matrix}\")"
      ],
      "metadata": {
        "id": "vJ7gctDE74fF",
        "colab": {
          "base_uri": "https://localhost:8080/"
        },
        "outputId": "e4733514-7c6b-41d9-b126-c24b52092b02"
      },
      "execution_count": 26,
      "outputs": [
        {
          "output_type": "stream",
          "name": "stdout",
          "text": [
            "3X3 matrix with values from 0 to 8:\n",
            "[[0 1 2]\n",
            " [3 4 5]\n",
            " [6 7 8]]\n"
          ]
        }
      ]
    },
    {
      "cell_type": "markdown",
      "source": [
        "3. Create a 3X3 identity matrix.{Hint:np.eye()}"
      ],
      "metadata": {
        "id": "lPrts2rh75Hw"
      }
    },
    {
      "cell_type": "code",
      "source": [
        "identity = np.eye(3, dtype=int)\n",
        "print(f\"3X3 identity matrix:\\n{identity}\")"
      ],
      "metadata": {
        "id": "wLYExE-c7469",
        "colab": {
          "base_uri": "https://localhost:8080/"
        },
        "outputId": "5b751414-44da-4c53-af01-33589f98835b"
      },
      "execution_count": 27,
      "outputs": [
        {
          "output_type": "stream",
          "name": "stdout",
          "text": [
            "3X3 identity matrix:\n",
            "[[1 0 0]\n",
            " [0 1 0]\n",
            " [0 0 1]]\n"
          ]
        }
      ]
    },
    {
      "cell_type": "markdown",
      "source": [
        "4. Create a random array of size 30 and find the mean of the array.\n",
        "{Hint:check for np.random.random() and array.mean() function}"
      ],
      "metadata": {
        "id": "VaXdK_fw76ln"
      }
    },
    {
      "cell_type": "code",
      "source": [
        "random_arr = np.random.random(30)\n",
        "print(f\"Random array of size 30:\\n{random_arr}\")\n",
        "mean = np.mean(random_arr)\n",
        "print(f\"\\nMean: {mean}\")"
      ],
      "metadata": {
        "id": "mtsQS_dl7_nM",
        "colab": {
          "base_uri": "https://localhost:8080/"
        },
        "outputId": "24d5b3b6-8da4-4843-8aab-8b154e17d2f6"
      },
      "execution_count": 28,
      "outputs": [
        {
          "output_type": "stream",
          "name": "stdout",
          "text": [
            "Random array of size 30:\n",
            "[0.39949519 0.31159854 0.35317778 0.89591297 0.69045604 0.53126065\n",
            " 0.55610028 0.43908861 0.5436755  0.9989511  0.54201463 0.28964935\n",
            " 0.27377494 0.60386055 0.82096663 0.49219753 0.22962413 0.33688153\n",
            " 0.42474299 0.28887202 0.30718488 0.42104743 0.47071197 0.15275392\n",
            " 0.27595535 0.74392038 0.33997082 0.83094558 0.47692056 0.77491602]\n",
            "\n",
            "Mean: 0.49388759534708987\n"
          ]
        }
      ]
    },
    {
      "cell_type": "markdown",
      "source": [
        "5. Create a 10X10 array with random values and find the minimum and maximum values."
      ],
      "metadata": {
        "id": "7G9BJK808AQP"
      }
    },
    {
      "cell_type": "code",
      "source": [
        "random_arr1 = np.random.random((10, 10))\n",
        "print(f\"10X10 array with random values:\\n{random_arr1}\")\n",
        "print(f\"\\nMinimum value: {np.min(random_arr1)}\")\n",
        "print(f\"\\nMaximum value: {np.max(random_arr1)}\")"
      ],
      "metadata": {
        "id": "otT0jZSl8ADe",
        "colab": {
          "base_uri": "https://localhost:8080/"
        },
        "outputId": "bdc2c68f-862f-4652-9ad2-871836490191"
      },
      "execution_count": 29,
      "outputs": [
        {
          "output_type": "stream",
          "name": "stdout",
          "text": [
            "10X10 array with random values:\n",
            "[[0.13735062 0.1153422  0.32456023 0.73792686 0.89588937 0.41064464\n",
            "  0.34429783 0.0286805  0.90181178 0.47747069]\n",
            " [0.26324677 0.94296678 0.33574979 0.17157106 0.26996381 0.10526079\n",
            "  0.46507035 0.81473365 0.63526203 0.67560809]\n",
            " [0.12402466 0.08784568 0.83997779 0.53037975 0.65031406 0.24115928\n",
            "  0.12143685 0.67658631 0.64039048 0.71853626]\n",
            " [0.47012684 0.26572239 0.35662523 0.71523532 0.40126555 0.33822154\n",
            "  0.68719995 0.24516946 0.14620884 0.94981664]\n",
            " [0.40013708 0.19770923 0.39058685 0.21402857 0.43505913 0.28757763\n",
            "  0.42289806 0.81252868 0.09901076 0.4409404 ]\n",
            " [0.49781976 0.24582633 0.13706901 0.1267158  0.38967976 0.22802763\n",
            "  0.16564474 0.39775866 0.12189378 0.9294239 ]\n",
            " [0.8226325  0.01945751 0.46942147 0.28763326 0.57113206 0.24875362\n",
            "  0.45655432 0.42828857 0.06129083 0.19368675]\n",
            " [0.50682709 0.30018646 0.41192135 0.03440261 0.92643656 0.31230941\n",
            "  0.80451956 0.91628729 0.73486899 0.40924151]\n",
            " [0.75153792 0.21453197 0.98175585 0.21636259 0.27734398 0.46599364\n",
            "  0.05174139 0.0977471  0.39490992 0.79822585]\n",
            " [0.13523669 0.34409516 0.07773072 0.17638457 0.65374178 0.93998936\n",
            "  0.73712074 0.56156489 0.28563414 0.23607983]]\n",
            "\n",
            "Minimum value: 0.019457513022990258\n",
            "\n",
            "Maximum value: 0.9817558528509601\n"
          ]
        }
      ]
    },
    {
      "cell_type": "markdown",
      "source": [
        "6. Create a zero array of size 10 and replace 5th element with 1."
      ],
      "metadata": {
        "id": "_chSFTAG8CB5"
      }
    },
    {
      "cell_type": "code",
      "source": [
        "zeros_arr = np.zeros(10, dtype=int)\n",
        "zeros_arr[4] = 1\n",
        "print(zeros_arr)"
      ],
      "metadata": {
        "id": "XIfbVGb08B0H",
        "colab": {
          "base_uri": "https://localhost:8080/"
        },
        "outputId": "9e2aeccc-f54c-489e-a16c-748240b95c56"
      },
      "execution_count": 30,
      "outputs": [
        {
          "output_type": "stream",
          "name": "stdout",
          "text": [
            "[0 0 0 0 1 0 0 0 0 0]\n"
          ]
        }
      ]
    },
    {
      "cell_type": "markdown",
      "source": [
        "7. Reverse an array arr = [1,2,0,0,4,0]."
      ],
      "metadata": {
        "id": "Am6cDmv38EGG"
      }
    },
    {
      "cell_type": "code",
      "source": [
        "arr = np.array([1,2,0,0,4,0])\n",
        "reversed = arr[::-1]\n",
        "print(f\"Reversed array: {reversed}\")"
      ],
      "metadata": {
        "colab": {
          "base_uri": "https://localhost:8080/"
        },
        "id": "NibCR4tSqXn5",
        "outputId": "90847dd3-5c8d-42bb-e8f9-af1bdae2ee73"
      },
      "execution_count": 31,
      "outputs": [
        {
          "output_type": "stream",
          "name": "stdout",
          "text": [
            "Reversed array: [0 4 0 0 2 1]\n"
          ]
        }
      ]
    },
    {
      "cell_type": "markdown",
      "source": [
        "8. Create a 2d array with 1 on border and 0 inside."
      ],
      "metadata": {
        "id": "mq3YVsAJ8FrA"
      }
    },
    {
      "cell_type": "code",
      "source": [
        "array = np.ones((7, 7), dtype=int)\n",
        "array[1:-1, 1:-1]=0\n",
        "print(f\"2d array with 1 on border and 0 inside:\\n{array}\")"
      ],
      "metadata": {
        "id": "3GiwBz1k8Fdm",
        "colab": {
          "base_uri": "https://localhost:8080/"
        },
        "outputId": "41d00323-06ba-41d5-9d7f-bce34b2bc04d"
      },
      "execution_count": 32,
      "outputs": [
        {
          "output_type": "stream",
          "name": "stdout",
          "text": [
            "2d array with 1 on border and 0 inside:\n",
            "[[1 1 1 1 1 1 1]\n",
            " [1 0 0 0 0 0 1]\n",
            " [1 0 0 0 0 0 1]\n",
            " [1 0 0 0 0 0 1]\n",
            " [1 0 0 0 0 0 1]\n",
            " [1 0 0 0 0 0 1]\n",
            " [1 1 1 1 1 1 1]]\n"
          ]
        }
      ]
    },
    {
      "cell_type": "markdown",
      "source": [
        "9. Create a 8X8 matrix and fill it with a checkerboard pattern."
      ],
      "metadata": {
        "id": "4uPkOeO78Hjw"
      }
    },
    {
      "cell_type": "code",
      "source": [
        "array = np.zeros((8, 8), dtype=int)\n",
        "array[1::2, ::2]=1\n",
        "array[::2, 1::2]=1\n",
        "print(f\"A checkerboard pattern 8x8 matrix:\\n{array}\")"
      ],
      "metadata": {
        "id": "4plkfXZz8HYq",
        "colab": {
          "base_uri": "https://localhost:8080/"
        },
        "outputId": "52814e65-85c0-44c4-cba9-3a48fc0d98af"
      },
      "execution_count": 33,
      "outputs": [
        {
          "output_type": "stream",
          "name": "stdout",
          "text": [
            "A checkerboard pattern 8x8 matrix:\n",
            "[[0 1 0 1 0 1 0 1]\n",
            " [1 0 1 0 1 0 1 0]\n",
            " [0 1 0 1 0 1 0 1]\n",
            " [1 0 1 0 1 0 1 0]\n",
            " [0 1 0 1 0 1 0 1]\n",
            " [1 0 1 0 1 0 1 0]\n",
            " [0 1 0 1 0 1 0 1]\n",
            " [1 0 1 0 1 0 1 0]]\n"
          ]
        }
      ]
    },
    {
      "cell_type": "markdown",
      "source": [
        "### Problem - 3: Array Operations:\n",
        "\n",
        "For the following arrays:\n",
        "\n",
        "x = np.array([[1,2],[3,5]]) and y = np.array([[5,6],[7,8]]);\n",
        "\n",
        "v = np.array([9,10]) and w = np.array([11,12]);\n",
        "\n",
        "Complete all the task using numpy:\n"
      ],
      "metadata": {
        "id": "yRZn9VM08NBl"
      }
    },
    {
      "cell_type": "markdown",
      "source": [
        "1. Add the two array."
      ],
      "metadata": {
        "id": "mFob4h6Q8TaW"
      }
    },
    {
      "cell_type": "code",
      "source": [
        "x = np.array([[1,2],[3,5]])\n",
        "y = np.array([[5,6],[7,8]])\n",
        "v = np.array([9,10])\n",
        "w = np.array([11,12])\n",
        "\n",
        "print(\"Addition:\")\n",
        "add_xy = np.add(x, y)\n",
        "print(add_xy)\n",
        "print(\"\")\n",
        "add_vw = np.add(v, w)\n",
        "print(add_vw)"
      ],
      "metadata": {
        "id": "JlXD5gtR8S_v",
        "colab": {
          "base_uri": "https://localhost:8080/"
        },
        "outputId": "be8ce7fd-b165-4f5d-a496-5c827ee5bb74"
      },
      "execution_count": 34,
      "outputs": [
        {
          "output_type": "stream",
          "name": "stdout",
          "text": [
            "Addition:\n",
            "[[ 6  8]\n",
            " [10 13]]\n",
            "\n",
            "[20 22]\n"
          ]
        }
      ]
    },
    {
      "cell_type": "markdown",
      "source": [
        "2. Subtract the two array."
      ],
      "metadata": {
        "id": "S_Qb0vcl8Vwe"
      }
    },
    {
      "cell_type": "code",
      "source": [
        "print(\"Subtraction\")\n",
        "subtract_xy = np.subtract(x, y)\n",
        "print(subtract_xy)\n",
        "print(\"\")\n",
        "subtract_vw = np.subtract(v, w)\n",
        "print(subtract_vw)"
      ],
      "metadata": {
        "id": "d9cR-cQ48Vd6",
        "colab": {
          "base_uri": "https://localhost:8080/"
        },
        "outputId": "4d826838-899d-4514-b9eb-5ae18c25e2a7"
      },
      "execution_count": 35,
      "outputs": [
        {
          "output_type": "stream",
          "name": "stdout",
          "text": [
            "Subtraction\n",
            "[[-4 -4]\n",
            " [-4 -3]]\n",
            "\n",
            "[-2 -2]\n"
          ]
        }
      ]
    },
    {
      "cell_type": "markdown",
      "source": [
        "3. Multiply the array with any integers of your choice."
      ],
      "metadata": {
        "id": "QBEG5Tne8Xtg"
      }
    },
    {
      "cell_type": "code",
      "source": [
        "print(\"Multipliplication:\")\n",
        "multiply1 = np.dot(x, 2)\n",
        "print(multiply1)\n",
        "print(\"\")\n",
        "multiply2 = np.dot(y, 3)\n",
        "print(multiply2)"
      ],
      "metadata": {
        "id": "xiVuA1QU8XhL",
        "colab": {
          "base_uri": "https://localhost:8080/"
        },
        "outputId": "ab7aeac4-6ac5-4f65-a5e3-de0e74e81469"
      },
      "execution_count": 36,
      "outputs": [
        {
          "output_type": "stream",
          "name": "stdout",
          "text": [
            "Multipliplication:\n",
            "[[ 2  4]\n",
            " [ 6 10]]\n",
            "\n",
            "[[15 18]\n",
            " [21 24]]\n"
          ]
        }
      ]
    },
    {
      "cell_type": "markdown",
      "source": [
        "4. Find the square of each element of the array."
      ],
      "metadata": {
        "id": "zz-THavf8ZW6"
      }
    },
    {
      "cell_type": "code",
      "source": [
        "print(\"Square of each element:\")\n",
        "squared_arrx = x ** 2\n",
        "print(squared_arrx)\n",
        "print(\"\")\n",
        "squared_arrv = v ** 2\n",
        "print(squared_arrv)"
      ],
      "metadata": {
        "id": "bwuxiXEW8ZKK",
        "colab": {
          "base_uri": "https://localhost:8080/"
        },
        "outputId": "b3907483-9dc7-4946-894f-cbaaba482ac2"
      },
      "execution_count": 37,
      "outputs": [
        {
          "output_type": "stream",
          "name": "stdout",
          "text": [
            "Square of each element:\n",
            "[[ 1  4]\n",
            " [ 9 25]]\n",
            "\n",
            "[ 81 100]\n"
          ]
        }
      ]
    },
    {
      "cell_type": "markdown",
      "source": [
        "5. Find the dot product between: v(and)w ; x(and)v ; x(and)y."
      ],
      "metadata": {
        "id": "sGPw_0mt8bTv"
      }
    },
    {
      "cell_type": "code",
      "source": [
        "print(\"Dot Products:\")\n",
        "dot_prod_vw = np.dot(v, w)\n",
        "print(\"\\nv(and)w:\", dot_prod_vw)\n",
        "dot_prod_xv = np.dot(x, v)\n",
        "print(\"\\nx(and)v:\", dot_prod_xv)\n",
        "dot_prod_xy = np.dot(x, y)\n",
        "print(\"\\nx(and)y:\", dot_prod_xy)"
      ],
      "metadata": {
        "id": "qeW5RWXp8bGD",
        "colab": {
          "base_uri": "https://localhost:8080/"
        },
        "outputId": "b6bece8c-d79d-4568-e885-cd1fb006be67"
      },
      "execution_count": 38,
      "outputs": [
        {
          "output_type": "stream",
          "name": "stdout",
          "text": [
            "Dot Products:\n",
            "\n",
            "v(and)w: 219\n",
            "\n",
            "x(and)v: [29 77]\n",
            "\n",
            "x(and)y: [[19 22]\n",
            " [50 58]]\n"
          ]
        }
      ]
    },
    {
      "cell_type": "markdown",
      "source": [
        "6. Concatenate x(and)y along row and Concatenate v(and)w along column. {Hint:try np.concatenate() or np.vstack() functions."
      ],
      "metadata": {
        "id": "JSCcC5Mx8c-D"
      }
    },
    {
      "cell_type": "code",
      "source": [
        "print(\"Concatenating x(and)y along row:\")\n",
        "concatenate_row = np.concatenate((x, y), axis=0)\n",
        "print(concatenate_row)\n",
        "\n",
        "print(\"\\nConcatenating v(and)w along column:\")\n",
        "concatenate_column = np.concatenate_column = np.vstack((v, w)).T\n",
        "print(concatenate_column)"
      ],
      "metadata": {
        "id": "JCW9x7uF8cyj",
        "colab": {
          "base_uri": "https://localhost:8080/"
        },
        "outputId": "b4a965aa-a8d1-47be-98c2-7a26ef39d107"
      },
      "execution_count": 39,
      "outputs": [
        {
          "output_type": "stream",
          "name": "stdout",
          "text": [
            "Concatenating x(and)y along row:\n",
            "[[1 2]\n",
            " [3 5]\n",
            " [5 6]\n",
            " [7 8]]\n",
            "\n",
            "Concatenating v(and)w along column:\n",
            "[[ 9 11]\n",
            " [10 12]]\n"
          ]
        }
      ]
    },
    {
      "cell_type": "markdown",
      "source": [
        "### Problem - 4: Matrix Operations:\n",
        "- For the following arrays:\n",
        "\n",
        "  A = np.array([[3,4],[7,8]]) and B = np.array([[5,3],[2,1]]);\n",
        "\n",
        "  Prove following with Numpy:\n",
        "  1. Prove A.A−1 = I.\n",
        "  2. Prove AB ̸= BA.\n",
        "  3. Prove(AB)T =BTAT."
      ],
      "metadata": {
        "id": "qsye1D1v8hMI"
      }
    },
    {
      "cell_type": "code",
      "source": [
        "A = np.array([[3,4],[7,8]])\n",
        "B = np.array([[5,3],[2,1]])\n",
        "\n",
        "from numpy import linalg\n",
        "\n",
        "inverse_A = np.linalg.inv(A)\n",
        "result1 = np.dot(A, inverse_A)\n",
        "print(f\"Result of A.A−1:\\n{np.round(result1)}\")\n",
        "\n",
        "prod_AB = np.dot(A, B)\n",
        "prod_BA = np.dot(B, A)\n",
        "\n",
        "check = np.array_equal(A, B)\n",
        "print(\"\\n\")\n",
        "if check == True:\n",
        "  print(\"AB = BA\")\n",
        "else:\n",
        "  print(\"AB != BA\")\n",
        "\n",
        "transpose_A = np.transpose(A)\n",
        "transpose_B = np.transpose(B)\n",
        "\n",
        "prod_BTAT = np.dot(transpose_B, transpose_A)\n",
        "transpose_AB = np.transpose(prod_AB)\n",
        "\n",
        "check1 = np.array_equal(transpose_AB, prod_BTAT)\n",
        "print(\"\\n\")\n",
        "if check1 == True:\n",
        "  print(\"(AB)T = BT.AT\")\n",
        "else:\n",
        "  print(\"(AB)T != BT.AT\")"
      ],
      "metadata": {
        "id": "dElQfEY68u8-",
        "colab": {
          "base_uri": "https://localhost:8080/"
        },
        "outputId": "6b719839-1987-470d-c132-ecb6bc15d266"
      },
      "execution_count": 41,
      "outputs": [
        {
          "output_type": "stream",
          "name": "stdout",
          "text": [
            "Result of A.A−1:\n",
            "[[1. 0.]\n",
            " [0. 1.]]\n",
            "\n",
            "\n",
            "AB != BA\n",
            "\n",
            "\n",
            "(AB)T = BT.AT\n"
          ]
        }
      ]
    },
    {
      "cell_type": "markdown",
      "source": [
        "- Solve the following system of Linear equation using Inverse Methods.\n",
        "\n",
        "  2x − 3y + z = −1\n",
        "\n",
        "  x − y + 2z = −3\n",
        "\n",
        "  3x + y − z = 9\n",
        "\n",
        "  {Hint: First use Numpy array to represent the equation in Matrix form. Then Solve for: AX = B}"
      ],
      "metadata": {
        "id": "ep85jQse8viC"
      }
    },
    {
      "cell_type": "code",
      "source": [
        "A = np.array([[2, -3, 1],\n",
        "              [1, -1, 2],\n",
        "              [3, 1, -1]])\n",
        "\n",
        "B = np.array([-1, -3, 9])\n",
        "\n",
        "print(\"Coefficient matrix A:\")\n",
        "print(A)\n",
        "print(\"\\nConstant matrix B:\")\n",
        "print(B)\n",
        "\n",
        "# find the determinant of A\n",
        "det_A = np.linalg.det(A)\n",
        "\n",
        "# find the adjugate matrix of A\n",
        "cofactor_matrix = np.zeros_like(A, dtype=float)\n",
        "\n",
        "# find the cofactor matrix using a loop\n",
        "for i in range(A.shape[0]):\n",
        "    for j in range(A.shape[1]):\n",
        "        minor_matrix = np.delete(np.delete(A, i, axis=0), j, axis=1)\n",
        "        cofactor_matrix[i, j] = ((-1) ** (i + j)) * np.linalg.det(minor_matrix)\n",
        "\n",
        "adjugate_matrix = cofactor_matrix.T\n",
        "\n",
        "# find the inverse of A\n",
        "A_inv = adjugate_matrix / det_A\n",
        "\n",
        "X = np.dot(A_inv, B)\n",
        "\n",
        "print(\"\\nSolution vector X using inverse method:\")\n",
        "print(X)"
      ],
      "metadata": {
        "id": "4dFnfSuh8vUo",
        "colab": {
          "base_uri": "https://localhost:8080/"
        },
        "outputId": "fd53b78d-893f-497c-8291-c8fb48e99d5d"
      },
      "execution_count": 42,
      "outputs": [
        {
          "output_type": "stream",
          "name": "stdout",
          "text": [
            "Coefficient matrix A:\n",
            "[[ 2 -3  1]\n",
            " [ 1 -1  2]\n",
            " [ 3  1 -1]]\n",
            "\n",
            "Constant matrix B:\n",
            "[-1 -3  9]\n",
            "\n",
            "Solution vector X using inverse method:\n",
            "[ 2.  1. -2.]\n"
          ]
        }
      ]
    },
    {
      "cell_type": "markdown",
      "source": [
        "- Now: solve the above equation using np.linalg.inv function. {Explore more about ”linalg” func- tion of Numpy}"
      ],
      "metadata": {
        "id": "TNCWBSK988ka"
      }
    },
    {
      "cell_type": "code",
      "source": [
        "A = np.array([[2, -3, 1],\n",
        "              [1, -1, 2],\n",
        "              [3, 1, -1]])\n",
        "B = np.array([-1, -3, 9])\n",
        "\n",
        "inv_A = np.linalg.inv(A)\n",
        "X = np.dot(inv_A, B)\n",
        "print(\"Solution vector X using np.linalg.inv function:\")\n",
        "print(X)"
      ],
      "metadata": {
        "id": "v5E2UXdY88MX",
        "colab": {
          "base_uri": "https://localhost:8080/"
        },
        "outputId": "ca80a240-7464-42f0-e09c-7a28dfb564fe"
      },
      "execution_count": 43,
      "outputs": [
        {
          "output_type": "stream",
          "name": "stdout",
          "text": [
            "Solution vector X using np.linalg.inv function:\n",
            "[ 2.  1. -2.]\n"
          ]
        }
      ]
    },
    {
      "cell_type": "markdown",
      "source": [
        "### Experiment: How Fast is Numpy?\n",
        "\n",
        "1. Element-wise Addition:\n",
        "- Using Python Lists, perform element-wise addition of two lists of size 1, 000, 000. Measure and Print the time taken for this operation.\n",
        "- Using Numpy Arrays, Repeat the calculation and measure and print the time taken for this operation.\n"
      ],
      "metadata": {
        "id": "r7lyLIKJ03xm"
      }
    },
    {
      "cell_type": "code",
      "source": [
        "import time\n",
        "\n",
        "list1 = [i for i in range(1,1000001)]\n",
        "list2 = [i for i in range(1000001,2000001)]\n",
        "\n",
        "start_time = time.time()\n",
        "result_time = [a+b for a,b in zip(list1, list2)]\n",
        "end_time = time.time()\n",
        "list_time = end_time - start_time\n",
        "print(f\"Time taken for element-wise addition: {list_time} seconds\")\n",
        "\n",
        "array1 = np.array(list1)\n",
        "array2 = np.array(list2)\n",
        "\n",
        "start_time = time.time()\n",
        "result_array = array1 + array2\n",
        "end_time = time.time()\n",
        "array_time = end_time - start_time\n",
        "print(f\"Time taken for element-wise addition using Numpy arrays: {array_time} seconds\")"
      ],
      "metadata": {
        "colab": {
          "base_uri": "https://localhost:8080/"
        },
        "id": "h9KTwlCx2FSo",
        "outputId": "d74d9255-ab04-41aa-beec-f7ba5c37d198"
      },
      "execution_count": 44,
      "outputs": [
        {
          "output_type": "stream",
          "name": "stdout",
          "text": [
            "Time taken for element-wise addition: 0.1100456714630127 seconds\n",
            "Time taken for element-wise addition using Numpy arrays: 0.0072324275970458984 seconds\n"
          ]
        }
      ]
    },
    {
      "cell_type": "markdown",
      "source": [
        "2. Element-wise Multiplication\n",
        "- Using Python Lists, perform element-wise multiplication of two lists of size 1,000,000. Measure and Print the time taken for this operation.\n",
        "- Using Numpy Arrays, Repeat the calculation and measure and print the time taken for this operation."
      ],
      "metadata": {
        "id": "y0gae3-g1jzP"
      }
    },
    {
      "cell_type": "code",
      "source": [
        "list1 = [i for i in range(1,1000001)]\n",
        "list2 = [i for i in range(1000001,2000001)]\n",
        "\n",
        "start_time = time.time()\n",
        "result_time = [a*b for a,b in zip(list1, list2)]\n",
        "end_time = time.time()\n",
        "list_time = end_time - start_time\n",
        "print(f\"Time taken for element-wise multiplication: {list_time} seconds\")\n",
        "\n",
        "array1 = np.array(list1)\n",
        "array2 = np.array(list2)\n",
        "\n",
        "start_time = time.time()\n",
        "result_array = array1 * array2\n",
        "end_time = time.time()\n",
        "array_time = end_time - start_time\n",
        "print(f\"Time taken for element-wise multiplication using Numpy arrays: {array_time} seconds\")"
      ],
      "metadata": {
        "colab": {
          "base_uri": "https://localhost:8080/"
        },
        "id": "DS9BNjKx2IX0",
        "outputId": "6398c4b5-a13c-4da9-94aa-3ecd46c3d431"
      },
      "execution_count": 45,
      "outputs": [
        {
          "output_type": "stream",
          "name": "stdout",
          "text": [
            "Time taken for element-wise multiplication: 0.13102102279663086 seconds\n",
            "Time taken for element-wise multiplication using Numpy arrays: 0.00617218017578125 seconds\n"
          ]
        }
      ]
    },
    {
      "cell_type": "markdown",
      "source": [
        "3. Dot Product\n",
        "- Using Python Lists, compute the dot product of two lists of size 1, 000, 000. Measure and Print the time taken for this operation.\n",
        "- Using Numpy Arrays, Repeat the calculation and measure and print the time taken for this operation."
      ],
      "metadata": {
        "id": "CqdPXEJW2OV6"
      }
    },
    {
      "cell_type": "code",
      "source": [
        "list1 = [i for i in range(1,1000001)]\n",
        "list2 = [i for i in range(1000001,2000001)]\n",
        "\n",
        "start_time = time.time()\n",
        "result_time = [a*b for a,b in zip(list1, list2)]\n",
        "end_time = time.time()\n",
        "list_time = end_time - start_time\n",
        "print(f\"Time taken for computing the dot product: {list_time} seconds\")\n",
        "\n",
        "array1 = np.array(list1)\n",
        "array2 = np.array(list2)\n",
        "\n",
        "start_time = time.time()\n",
        "dot_product_array = np.dot(array1, array2)\n",
        "end_time = time.time()\n",
        "array_time = end_time - start_time\n",
        "print(f\"Time taken for computing the dot product using Numpy arrays: {array_time} seconds\")"
      ],
      "metadata": {
        "colab": {
          "base_uri": "https://localhost:8080/"
        },
        "id": "N_E3pev12NzC",
        "outputId": "b52cb7de-1069-47ab-c86a-32d953328edd"
      },
      "execution_count": 46,
      "outputs": [
        {
          "output_type": "stream",
          "name": "stdout",
          "text": [
            "Time taken for computing the dot product: 0.11831045150756836 seconds\n",
            "Time taken for computing the dot product using Numpy arrays: 0.0023894309997558594 seconds\n"
          ]
        }
      ]
    },
    {
      "cell_type": "markdown",
      "source": [
        "4. Matrix Multiplication\n",
        "- Using Python lists, perform matrix multiplication of two matrices of size 1000x1000. Mea- sure and print the time taken for this operation.\n",
        "- Using NumPy arrays, perform matrix multiplication of two matrices of size 1000x1000. Measure and print the time taken for this operation."
      ],
      "metadata": {
        "id": "dYS5Wdao3OIQ"
      }
    },
    {
      "cell_type": "code",
      "source": [
        "N=1000\n",
        "\n",
        "matrix1 = [[i + j for j in range(N)] for i in range(N)]\n",
        "matrix2 = [[i - j for j in range(N)] for i in range(N)]\n",
        "\n",
        "def matrix_multiply(A,B):\n",
        "  result = [[0] *N for _ in range(N)]\n",
        "  for i in range(N):\n",
        "    for j in range(N):\n",
        "      for k in range(N):\n",
        "        result[i][j] += A[i][k] * B[k][j]\n",
        "  return result\n",
        "\n",
        "start_time = time.time()\n",
        "result = matrix_multiply(matrix1, matrix2)\n",
        "end_time = time.time()\n",
        "execute_time = end_time - start_time\n",
        "print(f\"Time taken for matrix multiplication: {execute_time} seconds\")\n",
        "\n",
        "array1 = np.array(matrix1)\n",
        "array2 = np.array(matrix2)\n",
        "\n",
        "start_time = time.time()\n",
        "result_numpy = np.dot(array1, array2)\n",
        "end_time = time.time()\n",
        "numpy_time = end_time - start_time\n",
        "print(f\"Time taken for matrix multiplication using Numpy arrays: {numpy_time:.6f} seconds\")"
      ],
      "metadata": {
        "id": "KaShbljh3NqK"
      },
      "execution_count": null,
      "outputs": []
    }
  ]
}